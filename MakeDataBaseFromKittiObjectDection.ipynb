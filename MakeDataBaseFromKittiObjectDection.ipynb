{
 "cells": [
  {
   "cell_type": "markdown",
   "metadata": {},
   "source": [
    "## Make DataBase From Kitti Object Dection"
   ]
  },
  {
   "cell_type": "code",
   "execution_count": 34,
   "metadata": {},
   "outputs": [],
   "source": [
    "import numpy as np\n",
    "import glob\n",
    "import random\n",
    "import os\n",
    "\n",
    "import open3d as o3d\n",
    "from pyntcloud import PyntCloud\n",
    "\n",
    "from matplotlib import pyplot as plt \n",
    "from mpl_toolkits.mplot3d.axes3d import Axes3D\n",
    "from progressbar import *  "
   ]
  },
  {
   "cell_type": "code",
   "execution_count": 26,
   "metadata": {},
   "outputs": [
    {
     "name": "stdout",
     "output_type": "stream",
     "text": [
      "There are  7481  files\n"
     ]
    }
   ],
   "source": [
    "folder_ground_truth = 'D:/xr/study/point cloud/Dataset/training/label_2'\n",
    "folder_point_cloud = 'D:/xr/study/point cloud/Dataset/training/velodyne'\n",
    "files_ground_truth = glob.glob(folder_ground_truth + '/*.txt')\n",
    "print(\"There are \", len(files_ground_truth), \" files\")"
   ]
  },
  {
   "cell_type": "markdown",
   "metadata": {},
   "source": [
    "prepare the axis visualization object"
   ]
  },
  {
   "cell_type": "code",
   "execution_count": 94,
   "metadata": {},
   "outputs": [],
   "source": [
    "axis_set = o3d.geometry.LineSet()\n",
    "axis_length = 2.0\n",
    "points_vis_axis = [ [0,0,0],[axis_length,0,0],[0,axis_length,0], [0,0,axis_length]]\n",
    "lines_vis_axis = [[0,1],[0,2],[0,3]]\n",
    "axis_set.lines = o3d.utility.Vector2iVector(lines_vis_axis)\n",
    "axis_set.points  = o3d.utility.Vector3dVector(points_vis_axis)\n",
    "colors = [[1,0,0] ,[0,1,0], [0,0,1]]\n",
    "axis_set.colors = o3d.utility.Vector3dVector(colors)"
   ]
  },
  {
   "cell_type": "markdown",
   "metadata": {},
   "source": [
    "## 1. Cut points from a 3D bounding box\n",
    "\n",
    "* one way : get the bounding box, and cut from the original point cloud (compute faster, code harder)\n",
    "* another way : transfrom and rotate the point cloud, then simply threshold by x, y and z (computer slower, code easier)\n",
    "\n",
    "\n",
    "### 1.1 Get the 3D bounding box"
   ]
  },
  {
   "cell_type": "code",
   "execution_count": 39,
   "metadata": {},
   "outputs": [],
   "source": [
    "def load_velo_scan(file):\n",
    "    \"\"\"Load and parse a velodyne binary file.\"\"\"\n",
    "    scan = np.fromfile(file, dtype=np.float32)\n",
    "    return scan.reshape((-1, 4))"
   ]
  },
  {
   "cell_type": "code",
   "execution_count": 202,
   "metadata": {},
   "outputs": [],
   "source": [
    "def get_3d_box(ry, t1, t2, t3, w, h, l):\n",
    "    # print(ry, t1, t2, t3, w, h, l)\n",
    "    ry_rod = ry\n",
    "    points_vis_axis = np.array([[l/2, w/2, 0],[l/2,-w/2, 0],[-l/2, w/2, 0], [-l/2, -w/2, 0], [l/2, w/2, h],[l/2,-w/2, h],[-l/2, w/2, h], [-l/2, -w/2, h]])\n",
    "    rotation_matrix = np.array([[np.cos(ry_rod), np.sin(ry_rod), 0], [-np.sin(ry_rod), np.cos(ry_rod), 0], [0,0,1]])\n",
    "    rotated_cloud = np.dot(rotation_matrix, (points_vis_axis.transpose())).transpose()\n",
    "    points_vis_axis = rotated_cloud + np.array([t1, t3, -t2])\n",
    "    \n",
    "    # need to rotate another 90 degrees -> coordinate change\n",
    "    ry_rod = np.pi/2\n",
    "    rotation_matrix = np.array([[np.cos(ry_rod), np.sin(ry_rod), 0], [-np.sin(ry_rod), np.cos(ry_rod), 0], [0,0,1]])\n",
    "    points_vis_axis = np.dot(rotation_matrix, (points_vis_axis.transpose())).transpose()\n",
    "    \n",
    "    lines_vis_axis = [[0, 1], [0, 2], [1, 3], [2, 3], [4, 5], [4, 6], [5, 7], [6, 7], [0,4],[1,5],[2,6],[3,7]]\n",
    "    \n",
    "    colors_box = [[0, 0, 1] for i in range(len(lines_vis_axis))]\n",
    "    box_set = o3d.geometry.LineSet()\n",
    "    box_set.lines = o3d.utility.Vector2iVector(lines_vis_axis)\n",
    "    box_set.points  = o3d.utility.Vector3dVector(points_vis_axis.tolist())\n",
    "    box_set.colors = o3d.utility.Vector3dVector(colors_box)\n",
    "    \n",
    "    return box_set"
   ]
  },
  {
   "cell_type": "markdown",
   "metadata": {},
   "source": [
    "\n",
    "#### here is the output 3d bounding box example (using get_3d_box(ry, t1, t2, t3, w, h, l) later part of this notebook)\n",
    "![title](images/bbx.PNG)"
   ]
  },
  {
   "cell_type": "markdown",
   "metadata": {},
   "source": [
    "### 1.2 Cut the points"
   ]
  },
  {
   "cell_type": "code",
   "execution_count": 113,
   "metadata": {
    "scrolled": true
   },
   "outputs": [
    {
     "name": "stdout",
     "output_type": "stream",
     "text": [
      " point cloud shape is :  (115875, 4)\n"
     ]
    }
   ],
   "source": [
    "# test show\n",
    "point_cloud_test = load_velo_scan(\"D:/xr/study/point cloud/Dataset/training/velodyne/000010.bin\")\n",
    "print(\" point cloud shape is : \", point_cloud_test.shape)\n",
    "point_cloud_o3d = o3d.geometry.PointCloud()\n",
    "point_cloud_o3d.points = o3d.utility.Vector3dVector(point_cloud_test[:,0:3])\n",
    "o3d.visualization.draw_geometries([point_cloud_o3d, axis_set])"
   ]
  },
  {
   "cell_type": "code",
   "execution_count": 244,
   "metadata": {},
   "outputs": [],
   "source": [
    "def rotate_and_threshold_pointcloud(pointcloud, ry, t1, t2, t3, w, h, l):\n",
    "    pointcloud_tmp = pointcloud[:, 0:3]\n",
    "    \n",
    "    # need to rotate another 90 degrees -> coordinate change\n",
    "    ry_rod = - np.pi/2\n",
    "    rotation_matrix = np.array([[np.cos(ry_rod), np.sin(ry_rod), 0], [-np.sin(ry_rod), np.cos(ry_rod), 0], [0,0,1]])\n",
    "    pointcloud_tmp = np.dot(rotation_matrix, (pointcloud_tmp.transpose())).transpose()\n",
    "    \n",
    "    ry_rod = -ry\n",
    "    rotation_matrix = np.array([[np.cos(ry_rod), np.sin(ry_rod), 0], [-np.sin(ry_rod), np.cos(ry_rod), 0], [0,0,1]])\n",
    "    # translate\n",
    "    translated_cloud = pointcloud_tmp - np.array([t1,t3,-t2])\n",
    "    # rotate\n",
    "    rotated_cloud = np.dot(rotation_matrix, (translated_cloud.transpose())).transpose()\n",
    "    # filter\n",
    "    x_flag = np.logical_and([rotated_cloud[:,0] <= l/2], [rotated_cloud[:,0] >= -l/2])\n",
    "    y_flag = np.logical_and([rotated_cloud[:,1] <= w/2], [rotated_cloud[:,1] >= -w/2])\n",
    "    \n",
    "    # cut more points from the round\n",
    "    z_flag = np.logical_and([rotated_cloud[:,2] <= h], [rotated_cloud[:,2] >= 0.1])\n",
    "    final_flag = np.logical_and(x_flag, y_flag)\n",
    "    final_flag = np.logical_and(final_flag, z_flag)\n",
    "    output_points = pointcloud[final_flag[0]]\n",
    "    return output_points"
   ]
  },
  {
   "cell_type": "code",
   "execution_count": 243,
   "metadata": {},
   "outputs": [],
   "source": [
    "point_cloud_test = load_velo_scan(\"D:/xr/study/point cloud/Dataset/training/velodyne/000010.bin\")\n",
    "output = rotate_and_threshold_pointcloud(point_cloud_test,  -1.42,  4.43, 1.65, 5.20, 1.65, 1.57, 3.35)\n",
    "\n",
    "point_cloud_o3d = o3d.geometry.PointCloud()\n",
    "point_cloud_o3d.points = o3d.utility.Vector3dVector(output[:,0:3])\n",
    "o3d.visualization.draw_geometries([point_cloud_o3d, axis_set])"
   ]
  },
  {
   "cell_type": "markdown",
   "metadata": {},
   "source": [
    "we take the threshold of height a little bit higher, to better avoid groud points.\n",
    "![title](images/cut_pt.PNG)"
   ]
  },
  {
   "cell_type": "markdown",
   "metadata": {},
   "source": [
    "## 2. Load groung truth and get points\n",
    "\n",
    "### 2.1 show all the bounding box"
   ]
  },
  {
   "cell_type": "code",
   "execution_count": 237,
   "metadata": {},
   "outputs": [],
   "source": [
    "def decode_ground_truth_line(gt_line):\n",
    "    # str, &trash, &trash, &d.box.alpha, &d.box.x1, &d.box.y1, &d.box.x2, &d.box.y2, &d.h, &d.w, &d.l, &d.t1, &d.t2, &d.t3, &d.ry\n",
    "    splits_gt = gt_line.split(' ')\n",
    "#     print('label is : ', splits_gt[0])\n",
    "#     print('box height : ', splits_gt[8])\n",
    "#     print('box width : ', splits_gt[9])\n",
    "#     print('box length : ', splits_gt[10])\n",
    "#     print('box coordinat : ',splits_gt[11], splits_gt[12], splits_gt[13] )\n",
    "#     print('box angle : ', splits_gt[14])\n",
    "    # return h, w, l, t1, t2, t3, ry\n",
    "    return float(splits_gt[8]), float(splits_gt[9]), float(splits_gt[10]), float(splits_gt[11]), float(splits_gt[12]), float(splits_gt[13]), float(splits_gt[14]),  \n",
    "\n",
    "def load_ground_true(file_gt):\n",
    "    file_name = file_gt[-10:-4]\n",
    "    file_velodyne = folder_point_cloud + '/' + file_name + '.bin'\n",
    "    #print(file_velodyne)\n",
    "    \n",
    "    file = open(file_gt, 'r')\n",
    "    box_sets = []\n",
    "    while True:\n",
    "        text_line = file.readline()\n",
    "        if text_line:\n",
    "            h, w, l, t1, t2, t3, ry = decode_ground_truth_line(text_line)\n",
    "            if(t1 < -100):\n",
    "                continue\n",
    "            box_set = get_3d_box(ry, t1, t2, t3, w, h, l)\n",
    "            #print(type(text_line), text_line)\n",
    "            box_sets.append(box_set)\n",
    "        else:\n",
    "            break\n",
    "    file.close()\n",
    "    return box_sets, file_velodyne"
   ]
  },
  {
   "cell_type": "code",
   "execution_count": 536,
   "metadata": {},
   "outputs": [
    {
     "name": "stdout",
     "output_type": "stream",
     "text": [
      "D:/xr/study/point cloud/Dataset/training/label_2\\000150.txt\n",
      " point cloud shape is :  (122445, 4)\n"
     ]
    }
   ],
   "source": [
    "# test\n",
    "idx = 458\n",
    "print(files_ground_truth[idx])\n",
    "show_sets, file_velodyne = load_ground_true(files_ground_truth[idx])\n",
    "\n",
    "# test show\n",
    "point_cloud_test = load_velo_scan(file_velodyne)\n",
    "print(\" point cloud shape is : \", point_cloud_test.shape)\n",
    "point_cloud_o3d = o3d.geometry.PointCloud()\n",
    "point_cloud_o3d.points = o3d.utility.Vector3dVector(point_cloud_test[:,0:3])\n",
    "show_sets.append(point_cloud_o3d)\n",
    "show_sets.append(axis_set)\n",
    "o3d.visualization.draw_geometries(show_sets)"
   ]
  },
  {
   "cell_type": "markdown",
   "metadata": {},
   "source": [
    "### 2.2 Cut the wanted pointclouds"
   ]
  },
  {
   "cell_type": "code",
   "execution_count": 246,
   "metadata": {},
   "outputs": [],
   "source": [
    "output_folder = 'D:/xr/study/point cloud/Dataset/TransformedClassificationSet'"
   ]
  },
  {
   "cell_type": "code",
   "execution_count": 286,
   "metadata": {},
   "outputs": [],
   "source": [
    "def save_points_to_ply(cloud, file_name):\n",
    "    file_out = open(file_name, \"w\")\n",
    "\n",
    "    file_out.write('ply\\nformat ascii 1.0\\ncomment Created by LIUYE\\n')\n",
    "    str_size = 'element vertex ' + str(cloud.shape[0]) + '\\n'\n",
    "    file_out.write(str_size)\n",
    "    file_out.write('property float x\\nproperty float y\\nproperty float z\\nproperty float intensity\\nend_header\\n')\n",
    "    \n",
    "    for i in range(cloud.shape[0]):\n",
    "        str_pt = str(cloud[i,0]) + ' ' + str(cloud[i,1]) + ' ' + str(cloud[i,2]) + ' ' + str(cloud[i,3]) + '\\n'\n",
    "        file_out.write(str_pt)\n",
    "    \n",
    "    file_out.close()"
   ]
  },
  {
   "cell_type": "code",
   "execution_count": 388,
   "metadata": {},
   "outputs": [],
   "source": [
    "count_classes = np.zeros(3).astype(int)\n",
    "\n",
    "def decode_ground_truth_line_and_choose(gt_line):\n",
    "    # fail label is t1 = -1000\n",
    "    # str, &trash, &trash, &d.box.alpha, &d.box.x1, &d.box.y1, &d.box.x2, &d.box.y2, &d.h, &d.w, &d.l, &d.t1, &d.t2, &d.t3, &d.ry\n",
    "    splits_gt = gt_line.split(' ')\n",
    "    label = -1\n",
    "    if(splits_gt[0] == 'Car'):\n",
    "        label = 0\n",
    "    elif(splits_gt[0] == 'Cyclist'):\n",
    "        label = 1\n",
    "    elif(splits_gt[0] == 'Pedestrian'):\n",
    "        label = 2\n",
    "    return label, float(splits_gt[8]), float(splits_gt[9]), float(splits_gt[10]), float(splits_gt[11]), float(splits_gt[12]), float(splits_gt[13]), float(splits_gt[14]),  \n",
    "\n",
    "def cut_ground_true_clouds(file_gt, save_path, if_save = True):\n",
    "    file_name = file_gt[-10:-4]\n",
    "    file_velodyne = folder_point_cloud + '/' + file_name + '.bin'\n",
    "    #print(file_velodyne)\n",
    "    point_cloud_test = load_velo_scan(file_velodyne)\n",
    "    \n",
    "    file = open(file_gt, 'r')\n",
    "    label_clouds = []\n",
    "    labels = []\n",
    "    while True:\n",
    "        text_line = file.readline()\n",
    "        if text_line:\n",
    "            label, h, w, l, t1, t2, t3, ry = decode_ground_truth_line_and_choose(text_line)\n",
    "            if(t1 < -100):\n",
    "                continue\n",
    "            if(label == -1):\n",
    "                continue\n",
    "            #rotate_and_threshold_pointcloud(pointcloud, ry, t1, t2, t3, w, h, l):\n",
    "            label_pts = rotate_and_threshold_pointcloud(point_cloud_test, ry, t1, t2, t3, w, h, l)\n",
    "            #print(label, label_pts.shape)\n",
    "            \n",
    "            file_name = save_path + '/' + str(label) + '/' + str(count_classes[label]) + '.ply'\n",
    "            count_classes[label] += 1\n",
    "            if(if_save):\n",
    "                save_points_to_ply(label_pts, file_name)\n",
    "                \n",
    "            label_clouds.append(label_pts)\n",
    "            labels.append(label)\n",
    "        else:\n",
    "            break\n",
    "    file.close()\n",
    "    return label_clouds, labels"
   ]
  },
  {
   "cell_type": "code",
   "execution_count": 389,
   "metadata": {
    "scrolled": false
   },
   "outputs": [
    {
     "name": "stdout",
     "output_type": "stream",
     "text": [
      "D:/xr/study/point cloud/Dataset/training/label_2\\000010.txt\n"
     ]
    },
    {
     "data": {
      "image/png": "[encoded data removed]",
      "text/plain": [
       "<Figure size 1440x144 with 9 Axes>"
      ]
     },
     "metadata": {
      "needs_background": "light"
     },
     "output_type": "display_data"
    }
   ],
   "source": [
    "# test\n",
    "count_classes = np.zeros(3).astype(int)\n",
    "idx = 10\n",
    "print(files_ground_truth[idx])\n",
    "label_clouds, labels = cut_ground_true_clouds(files_ground_truth[idx], output_folder, False)\n",
    "\n",
    "# show points\n",
    "num_pts = len(label_clouds)\n",
    "fig = plt.figure(figsize=(20,2))\n",
    "for i in range(num_pts):\n",
    "    ax1 = fig.add_subplot(1, num_pts, i+1, projection='3d')\n",
    "    ax1.scatter(label_clouds[i][:,0], label_clouds[i][:,1], label_clouds[i][:,2])\n",
    "    ax1.set_title(str(labels[i]))"
   ]
  },
  {
   "cell_type": "markdown",
   "metadata": {},
   "source": [
    "### 2.2 Make Data Set\n",
    "\n",
    "#### Data set making:\n",
    "Which data to use for final test. \n",
    "* We donnot have the ground truth for the testing set of \"KITTI OBJECT DETECTION\" set. We can only evaluate the result from trainning set. So we need to seperate the trainning set to train and test set. \n",
    "* seperate and find clouds in trainning set. \n",
    "* save the files of testing set to an txt file."
   ]
  },
  {
   "cell_type": "code",
   "execution_count": 387,
   "metadata": {},
   "outputs": [
    {
     "name": "stdout",
     "output_type": "stream",
     "text": [
      "we have  7481  frames in total,  5984  of them will be used for trainning,  1497  of them will be used for testing.\n"
     ]
    }
   ],
   "source": [
    "num_all = len(files_ground_truth)\n",
    "num_trainning = (int)(num_all * 0.8)\n",
    "num_testing = num_all - num_trainning\n",
    "print('we have ', num_all, ' frames in total, ', num_trainning, ' of them will be used for trainning, ', num_testing, ' of them will be used for testing.')"
   ]
  },
  {
   "cell_type": "code",
   "execution_count": 386,
   "metadata": {
    "scrolled": true
   },
   "outputs": [
    {
     "name": "stdout",
     "output_type": "stream",
     "text": [
      "Randomly choose  5984  training data, and  1497  testing data.\n"
     ]
    }
   ],
   "source": [
    "training_ids = np.random.choice(num_all, num_trainning, replace=False)\n",
    "files_trainning = []\n",
    "files_testing = []\n",
    "\n",
    "file_test_files = output_folder + '/TestSet.txt'\n",
    "file_out = open(file_test_files, \"w\")\n",
    "for i in range(num_all):\n",
    "    if i in training_ids:\n",
    "        files_trainning.append(files_ground_truth[i])\n",
    "    else:\n",
    "        file_out.write(files_ground_truth[i] + '\\n')\n",
    "        files_testing.append(files_ground_truth[i])\n",
    "file_out.close()\n",
    "\n",
    "print(\"Randomly choose \", len(files_trainning), ' training data, and ', len(files_testing), ' testing data.')"
   ]
  },
  {
   "cell_type": "code",
   "execution_count": 392,
   "metadata": {},
   "outputs": [],
   "source": [
    "# create folders\n",
    "os.mkdir(output_folder + '/0')\n",
    "os.mkdir(output_folder + '/1')\n",
    "os.mkdir(output_folder + '/2')"
   ]
  },
  {
   "cell_type": "code",
   "execution_count": 393,
   "metadata": {},
   "outputs": [
    {
     "name": "stderr",
     "output_type": "stream",
     "text": [
      "100% |########################################################################|\n"
     ]
    }
   ],
   "source": [
    "pbar = ProgressBar()\n",
    "count_classes = np.zeros(3).astype(int)\n",
    "for i in pbar(range(len(files_trainning))):\n",
    "    label_clouds, labels = cut_ground_true_clouds(files_trainning[i], output_folder)"
   ]
  },
  {
   "cell_type": "code",
   "execution_count": 667,
   "metadata": {},
   "outputs": [
    {
     "name": "stdout",
     "output_type": "stream",
     "text": [
      "we have  22944  cars\n",
      "we have  1317  cyclists\n",
      "we have  3574  pedestrians\n"
     ]
    }
   ],
   "source": [
    "print('we have ', count_classes[0], ' cars')\n",
    "print('we have ', count_classes[1], ' cyclists')\n",
    "print('we have ', count_classes[2], ' pedestrians')"
   ]
  },
  {
   "cell_type": "markdown",
   "metadata": {},
   "source": [
    "show some examples here. (the first column, with medium amount of points; the second column, with the most points; the last column, with the fewest points )\n",
    "\n",
    "![title](images/cut_show.PNG)\n",
    "\n",
    "#### Data analysis\n",
    "* With certain amount of points offered, we can visually seperate them. But we cannot seperate the shapes of the cases with two few points.\n",
    "* But notice that the cars has the largest distribution of points, cyclists ditributed in two dimensions, and the pedestrians' points only distributed in height direction. We could probably use this.\n",
    "* As we can see from the ground truth data, we only care about the cloud in our front view (in front of the car), as we only have bounding box in front view.\n",
    "\n",
    "#### Next step:\n",
    "Cluster the test lidar data, to see the candidates for the classification network\n",
    "* Filter by distribution range (as we can filter too large clouds)\n",
    "* Should not filter too small set, as there are a lot of them in the training set. (if it won't work , I will consider to ignore the data with too few points, both in the training stage and the test stage.)\n",
    "* Based on the clustering result, build the set of \"Other\" class. (to avoid overfitting, use the lidar data from testing set.)"
   ]
  },
  {
   "cell_type": "markdown",
   "metadata": {},
   "source": [
    "## 3. Make clouds for \"Other\""
   ]
  },
  {
   "cell_type": "code",
   "execution_count": 781,
   "metadata": {},
   "outputs": [
    {
     "data": {
      "text/plain": [
       "<module 'mine_clustering.clustering_random_sample' from 'D:\\\\xr\\\\study\\\\point cloud\\\\FinalProject\\\\mine_clustering\\\\clustering_random_sample.py'>"
      ]
     },
     "execution_count": 781,
     "metadata": {},
     "output_type": "execute_result"
    }
   ],
   "source": [
    "import mine_clustering.clustering_random_sample as mine_seg\n",
    "import imp\n",
    "imp.reload(mine_clustering.clustering_random_sample)"
   ]
  },
  {
   "cell_type": "code",
   "execution_count": 796,
   "metadata": {},
   "outputs": [],
   "source": [
    "# as from the ground truth, we know we only care about the obstracles in the front view\n",
    "def take_the_cloud_in_front_view(input_cloud):\n",
    "    front_pts_indices = []\n",
    "    for i in range(input_cloud.shape[0]):\n",
    "        # points in the back\n",
    "        if (input_cloud[i, 0] < 0):\n",
    "            continue\n",
    "        \n",
    "        distance = np.sqrt(input_cloud[i, 1]*input_cloud[i, 1]+input_cloud[i, 0]*input_cloud[i, 0])\n",
    "        if (input_cloud[i, 1] == 0):\n",
    "            front_pts_indices.append(i)\n",
    "            continue\n",
    "        \n",
    "        # filter points aside\n",
    "        if np.abs(input_cloud[i, 0] / input_cloud[i, 1]) > 2:\n",
    "            front_pts_indices.append(i)\n",
    "        # and keep points close\n",
    "        elif (distance) < 10:\n",
    "            front_pts_indices.append(i)\n",
    "        \n",
    "    return input_cloud[front_pts_indices]\n",
    "\n",
    "# in most case we cannot find the good whole ground, so I sepeate the cloud into multiple parts to search\n",
    "def seperate_the_cloud(input_cloud):\n",
    "    clouds = []\n",
    "    # seperate by x distance\n",
    "    cut_threshold = 10.0\n",
    "    cloud_1 = input_cloud[input_cloud[:,0] < cut_threshold]\n",
    "    cloud_2 = input_cloud[input_cloud[:,0] > cut_threshold]\n",
    "    clouds.append(cloud_1)\n",
    "    clouds.append(cloud_2)\n",
    "    return clouds\n",
    "\n",
    "def fusion_cloud_parts(cloud_parts):\n",
    "    result_cloud = cloud_parts[0]\n",
    "    for i in range(len(cloud_parts)-1):\n",
    "        result_cloud = np.concatenate((result_cloud, cloud_parts[i+1]), axis=0)\n",
    "    return result_cloud\n",
    "    \n",
    "\n",
    "def segmentation_cloud(file_gt, eps = 0.25):\n",
    "    file_name = file_gt[-10:-4]\n",
    "    file_velodyne = folder_point_cloud + '/' + file_name + '.bin'\n",
    "\n",
    "    point_cloud_test = take_the_cloud_in_front_view(load_velo_scan(file_velodyne))\n",
    "\n",
    "    cloud_parts = seperate_the_cloud(point_cloud_test)\n",
    "\n",
    "    segmented_points_parts = []\n",
    "    floor_cloud_parts = []\n",
    "    final_thresholds = [0.2,0.2]\n",
    "    num_iterations = [100, 100]\n",
    "\n",
    "    for i in range(len(cloud_parts)):\n",
    "        segmented_points_part, floor_cloud_part = mine_seg.ground_segmentation(cloud_parts[i],final_thresholds[i], num_iterations[i])\n",
    "        segmented_points_parts.append(segmented_points_part)\n",
    "        floor_cloud_parts.append(floor_cloud_part)\n",
    "    \n",
    "    segmented_points = fusion_cloud_parts(segmented_points_parts)\n",
    "    floor_cloud = fusion_cloud_parts(floor_cloud_parts)\n",
    "\n",
    "    # use DBSCAN to cluster the data, as we have no prior on the number of classes\n",
    "    cluster_index = mine_seg.clustering(segmented_points, eps)\n",
    "    \n",
    "    return segmented_points, cluster_index, floor_cloud"
   ]
  },
  {
   "cell_type": "code",
   "execution_count": 797,
   "metadata": {
    "scrolled": false
   },
   "outputs": [
    {
     "name": "stdout",
     "output_type": "stream",
     "text": [
      "D:/xr/study/point cloud/Dataset/training/label_2\\000458.txt\n"
     ]
    }
   ],
   "source": [
    "# test_floor_segmentation\n",
    "idx = 458\n",
    "print(files_ground_truth[idx])\n",
    "segmented_points, cluster_index, floor_cloud = segmentation_cloud(files_ground_truth[idx], 0.5)\n",
    "mine_seg.plot_clusters_o3d(segmented_points, cluster_index, floor_cloud)"
   ]
  },
  {
   "cell_type": "markdown",
   "metadata": {},
   "source": [
    "### 3.1 Test the cluster and filter result\n",
    "\n",
    "* filter the cluster range too large\n",
    "* filter the cluster too high (as human cannot be too tall)\n",
    "* filter the cluster which is single line, flat plane, or every small ball (two far, or segmentation error, and as we seen the ground truth, these won't be any class)\n",
    "* don't filter by number, as the number could be small"
   ]
  },
  {
   "cell_type": "code",
   "execution_count": 798,
   "metadata": {},
   "outputs": [],
   "source": [
    "# some cluster is a single line, we should filter these\n",
    "def is_single_line_or_flat(cluster_pts):\n",
    "    normalized_pts = cluster_pts - np.mean(cluster_pts ,0)\n",
    "    w_nn, v_nn = mine_seg.PCA(normalized_pts)\n",
    "    main_direction = np.transpose(v_nn[:, 0])\n",
    "    \n",
    "    sum_dot_product = 0\n",
    "    for i in range(normalized_pts.shape[0]):\n",
    "        thre = np.abs(np.dot(normalized_pts[i], main_direction)) / np.linalg.norm(normalized_pts[i])\n",
    "        sum_dot_product += thre\n",
    "    \n",
    "    average_dot_product = sum_dot_product / normalized_pts.shape[0]\n",
    "    #print(average_dot_product)\n",
    "    \n",
    "    if average_dot_product > 0.9:\n",
    "        return True\n",
    "    \n",
    "    normal_direction = np.transpose(v_nn[:, 2])\n",
    "    \n",
    "    sum_dot_product = 0\n",
    "    for i in range(normalized_pts.shape[0]):\n",
    "        thre = np.abs(np.dot(normalized_pts[i], main_direction)) / np.linalg.norm(normalized_pts[i])\n",
    "        sum_dot_product += thre\n",
    "    \n",
    "    average_dot_product = sum_dot_product / normalized_pts.shape[0]\n",
    "    \n",
    "    if average_dot_product < 0.1:\n",
    "        return True\n",
    "    \n",
    "    return False\n",
    "\n",
    "# whether the cloud is too closely grouped (into a single ball)\n",
    "def is_too_close(cluster_pts):\n",
    "    normalized_pts = cluster_pts - np.mean(cluster_pts ,0)\n",
    "    norms = np.linalg.norm(normalized_pts, axis=1)\n",
    "    #average_norm = np.mean(norms)\n",
    "    #print(average_norm)\n",
    "    check_distance = max(norms)\n",
    "    \n",
    "    if(check_distance < 0.3):\n",
    "        return True\n",
    "    return False\n",
    "\n",
    "#process the cloud result of DBSCAN\n",
    "def judge_the_dbscan_cloud(cluster_pts):\n",
    "    #cluster_pts = pointcloud[cluster_index==index]\n",
    "    ret = True\n",
    "    max_size = 5.0\n",
    "    max_tall = 2.0\n",
    "    \n",
    "    max_z = max(cluster_pts[:,2])\n",
    "    min_z = min(cluster_pts[:,2])\n",
    "\n",
    "    if(max_z > 0.8):\n",
    "        return False\n",
    "    \n",
    "    if(max_z < -1):\n",
    "        return False\n",
    "    \n",
    "    range_x = max(cluster_pts[:,0]) - min(cluster_pts[:,0])\n",
    "    range_y = max(cluster_pts[:,1]) - min(cluster_pts[:,1])\n",
    "    range_z = max_z - min_z\n",
    "  \n",
    "    #print(range_x, range_y)\n",
    "    if range_x > max_size :\n",
    "        ret = False\n",
    "    elif range_y > max_size :\n",
    "        ret = False\n",
    "    elif range_z > max_tall:\n",
    "        ret = False\n",
    "    elif (is_single_line_or_flat(cluster_pts)):\n",
    "        ret = False\n",
    "    elif (is_too_close(cluster_pts)):\n",
    "        ret = False\n",
    "    \n",
    "    return ret"
   ]
  },
  {
   "cell_type": "code",
   "execution_count": 799,
   "metadata": {},
   "outputs": [],
   "source": [
    "colors = [[0,1,0], [1,1,0], [1,0,1],\n",
    "          [0,0,1], [0,1,1], [0.5,0.5,0],\n",
    "          [1,0,0], [0.3,0,0.6], [0.8,0,0.1]]"
   ]
  },
  {
   "cell_type": "code",
   "execution_count": 802,
   "metadata": {},
   "outputs": [
    {
     "name": "stdout",
     "output_type": "stream",
     "text": [
      "D:/xr/study/point cloud/Dataset/training/label_2\\002410.txt\n",
      "result in  34  clusters.\n"
     ]
    }
   ],
   "source": [
    "#idx = 458\n",
    "idx = random.randint(0,7000)\n",
    "print(files_ground_truth[idx])\n",
    "segmented_points, cluster_index, floor_cloud = segmentation_cloud(files_ground_truth[idx],0.25)\n",
    "#mine_seg.plot_clusters_o3d(segmented_points, cluster_index, floor_cloud)\n",
    "\n",
    "num_filtered = 0\n",
    "cluster_show = []\n",
    "for i in range(max(cluster_index)):\n",
    "    cluster_pts = segmented_points[cluster_index==i]\n",
    "    ret = judge_the_dbscan_cloud(cluster_pts[:,0:3])\n",
    "    if(ret):\n",
    "        color = colors[num_filtered%len(colors)]\n",
    "        num_filtered += 1\n",
    "        colors_cluster = [color for i in range(cluster_pts.shape[0])]\n",
    "        point_cloud_o3d = o3d.geometry.PointCloud()\n",
    "        point_cloud_o3d.points = o3d.utility.Vector3dVector(cluster_pts[:,0:3].reshape(-1,3))\n",
    "        point_cloud_o3d.colors = o3d.utility.Vector3dVector(colors_cluster)\n",
    "        cluster_show.append(point_cloud_o3d)\n",
    "print('result in ', num_filtered, ' clusters.')\n",
    "\n",
    "point_cloud_floor = o3d.geometry.PointCloud()\n",
    "point_cloud_floor.points = o3d.utility.Vector3dVector(floor_cloud[:,0:3].reshape(-1,3))\n",
    "colors_floor = [[0, 0, 0] for i in range(floor_cloud.shape[0])]\n",
    "point_cloud_floor.colors = o3d.utility.Vector3dVector(colors_floor)\n",
    "\n",
    "cluster_show.append(point_cloud_floor)\n",
    "o3d.visualization.draw_geometries(cluster_show)"
   ]
  },
  {
   "cell_type": "markdown",
   "metadata": {},
   "source": [
    "![title](images/clustering_result_3.PNG)"
   ]
  },
  {
   "cell_type": "markdown",
   "metadata": {},
   "source": [
    "### 3.2 Check whether they are classfied object"
   ]
  },
  {
   "cell_type": "code",
   "execution_count": 803,
   "metadata": {},
   "outputs": [],
   "source": [
    "def get_object_boxes(file_gt):\n",
    "    file_name = file_gt[-10:-4]\n",
    "    file_velodyne = folder_point_cloud + '/' + file_name + '.bin'\n",
    "    \n",
    "    file = open(file_gt, 'r')\n",
    "    box_sets = []\n",
    "    while True:\n",
    "        text_line = file.readline()\n",
    "        if text_line:\n",
    "            label, h, w, l, t1, t2, t3, ry = decode_ground_truth_line_and_choose(text_line)\n",
    "            if(t1 < -100):\n",
    "                continue\n",
    "            if(label == -1):\n",
    "                continue\n",
    "                \n",
    "            box_set = [ry, t1, t2, t3, w, h, l]\n",
    "            box_sets.append(box_set)\n",
    "        else:\n",
    "            break\n",
    "    file.close()\n",
    "    return box_sets, file_velodyne\n",
    "\n",
    "def if_overlapping_the_box(cluster_pts, box_sets):\n",
    "    for box_set in box_sets:\n",
    "        points_in_box = rotate_and_threshold_pointcloud(cluster_pts, box_set[0], box_set[1], box_set[2], box_set[3], box_set[4], box_set[5], box_set[6])\n",
    "        #print(points_in_box.shape[0])\n",
    "        if(points_in_box.shape[0] > 0 ):\n",
    "            return True\n",
    "    return False"
   ]
  },
  {
   "cell_type": "code",
   "execution_count": 805,
   "metadata": {},
   "outputs": [
    {
     "name": "stdout",
     "output_type": "stream",
     "text": [
      "D:/xr/study/point cloud/Dataset/training/label_2\\000458.txt\n",
      "result in  6  clusters.\n"
     ]
    }
   ],
   "source": [
    "# test\n",
    "idx = 458\n",
    "print(files_ground_truth[idx])\n",
    "box_sets, file_velodyne = get_object_boxes(files_ground_truth[idx])\n",
    "\n",
    "segmented_points, cluster_index, floor_cloud = segmentation_cloud(files_ground_truth[idx],0.25)\n",
    "#mine_seg.plot_clusters_o3d(segmented_points, cluster_index, floor_cloud)\n",
    "\n",
    "num_filtered = 0\n",
    "cluster_show = []\n",
    "for i in range(max(cluster_index)):\n",
    "    cluster_pts = segmented_points[cluster_index==i]\n",
    "    ret = judge_the_dbscan_cloud(cluster_pts[:,0:3])\n",
    "    if(ret):\n",
    "        if(if_overlapping_the_box(cluster_pts, box_sets)):\n",
    "            continue\n",
    "        \n",
    "        color = colors[num_filtered%len(colors)]\n",
    "        num_filtered += 1\n",
    "        colors_cluster = [color for i in range(cluster_pts.shape[0])]\n",
    "        point_cloud_o3d = o3d.geometry.PointCloud()\n",
    "        point_cloud_o3d.points = o3d.utility.Vector3dVector(cluster_pts[:,0:3].reshape(-1,3))\n",
    "        point_cloud_o3d.colors = o3d.utility.Vector3dVector(colors_cluster)\n",
    "        cluster_show.append(point_cloud_o3d)\n",
    "print('result in ', num_filtered, ' clusters.')\n",
    "\n",
    "point_cloud_floor = o3d.geometry.PointCloud()\n",
    "point_cloud_floor.points = o3d.utility.Vector3dVector(floor_cloud[:,0:3].reshape(-1,3))\n",
    "colors_floor = [[0, 0, 0] for i in range(floor_cloud.shape[0])]\n",
    "point_cloud_floor.colors = o3d.utility.Vector3dVector(colors_floor)\n",
    "\n",
    "cluster_show.append(point_cloud_floor)\n",
    "o3d.visualization.draw_geometries(cluster_show)"
   ]
  },
  {
   "cell_type": "markdown",
   "metadata": {},
   "source": [
    "Overlapping with ground truth box\n",
    "\n",
    "![title](images/overlapping.PNG)\n",
    "\n",
    "\n",
    "Not overlapping with ground truth box\n",
    "\n",
    "![title](images/not_overlapping.PNG)"
   ]
  },
  {
   "cell_type": "markdown",
   "metadata": {},
   "source": [
    "### 3.3 Make data for \"Other\"\n",
    "\n",
    "* Consider the amount of classfied data, we will extract 10,000 cluster for \"Other\""
   ]
  },
  {
   "cell_type": "code",
   "execution_count": 814,
   "metadata": {},
   "outputs": [],
   "source": [
    "def take_other_cluster(idx):\n",
    "    box_sets, file_velodyne = get_object_boxes(files_trainning[idx])\n",
    "\n",
    "    segmented_points, cluster_index, floor_cloud = segmentation_cloud(files_trainning[idx],0.25)\n",
    "    #mine_seg.plot_clusters_o3d(segmented_points, cluster_index, floor_cloud)\n",
    "\n",
    "    cluster_taken = []\n",
    "    for i in range(max(cluster_index)):\n",
    "        cluster_pts = segmented_points[cluster_index==i]\n",
    "        ret = judge_the_dbscan_cloud(cluster_pts[:,0:3])\n",
    "        if(ret):\n",
    "            if(if_overlapping_the_box(cluster_pts, box_sets)):\n",
    "                continue\n",
    "            # save the cloud\n",
    "            random_threshold = 0.1\n",
    "            # assign higher probability for large clusters\n",
    "            if(cluster_pts.shape[0] > 1000):\n",
    "                random_threshold = 0.15\n",
    "                \n",
    "            prob = random.random()\n",
    "            #print(prob)\n",
    "            if(prob < random_threshold):\n",
    "                cluster_taken.append(cluster_pts)\n",
    "            \n",
    "    return cluster_taken"
   ]
  },
  {
   "cell_type": "code",
   "execution_count": 815,
   "metadata": {},
   "outputs": [],
   "source": [
    "os.mkdir(output_folder + '/other')"
   ]
  },
  {
   "cell_type": "code",
   "execution_count": null,
   "metadata": {
    "scrolled": true
   },
   "outputs": [],
   "source": [
    "pbar = ProgressBar()\n",
    "num_others = 0\n",
    "wanted_num_others = 10000\n",
    "for i in pbar(range(len(files_trainning))):\n",
    "    cluster_taken = take_other_cluster(i)\n",
    "    for cluster_pts in cluster_taken:\n",
    "        file_name = output_folder + '/other/' + str(num_others) + '.ply'\n",
    "        save_points_to_ply(cluster_pts, file_name)\n",
    "        num_others += 1\n",
    "        if(num_others >= wanted_num_others):\n",
    "            break\n",
    "\n",
    "print('Made ',num_others, ' clouds for label : Other.' )"
   ]
  },
  {
   "cell_type": "markdown",
   "metadata": {},
   "source": [
    "![title](images/other.PNG)\n",
    "\n",
    "\n",
    "Final result of this notebook\n",
    "\n",
    "![title](images/final_dataset.PNG)\n",
    "\n",
    "#### Next step\n",
    "\n",
    "equalize the distribution different classes"
   ]
  }
 ],
 "metadata": {
  "kernelspec": {
   "display_name": "Python 3",
   "language": "python",
   "name": "python3"
  },
  "language_info": {
   "codemirror_mode": {
    "name": "ipython",
    "version": 3
   },
   "file_extension": ".py",
   "mimetype": "text/x-python",
   "name": "python",
   "nbconvert_exporter": "python",
   "pygments_lexer": "ipython3",
   "version": "3.7.1"
  }
 },
 "nbformat": 4,
 "nbformat_minor": 2
}
