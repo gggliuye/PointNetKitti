{
 "cells": [
  {
   "cell_type": "markdown",
   "metadata": {},
   "source": [
    "# Pretreat the data set\n",
    "\n",
    "1. As the amount of data of each class varies a lot, we need to equalize them.\n",
    "2. Seperate the dataset into train and test set. To find a reasonable model and hyper-parameters.\n",
    "3. Train the found model with whole data.\n",
    "4. Test the object detection on the velodyne test data set."
   ]
  },
  {
   "cell_type": "code",
   "execution_count": 1,
   "metadata": {},
   "outputs": [],
   "source": [
    "import numpy as np\n",
    "import pandas as pd\n",
    "import glob\n",
    "import random\n",
    "import os\n",
    "\n",
    "from matplotlib import pyplot as plt \n",
    "from mpl_toolkits.mplot3d.axes3d import Axes3D"
   ]
  },
  {
   "cell_type": "code",
   "execution_count": 2,
   "metadata": {},
   "outputs": [],
   "source": [
    "from plyfile import PlyData, PlyElement\n",
    "from progressbar import *  "
   ]
  },
  {
   "cell_type": "code",
   "execution_count": 3,
   "metadata": {},
   "outputs": [],
   "source": [
    "import open3d as o3d\n",
    "from pyntcloud import PyntCloud"
   ]
  },
  {
   "cell_type": "code",
   "execution_count": 4,
   "metadata": {},
   "outputs": [],
   "source": [
    "source_folder = 'D:/xr/study/point cloud/Dataset/TransformedClassificationSet'\n",
    "class_folders = [ source_folder + '/0', source_folder + '/1', source_folder + '/2', source_folder + '/other']"
   ]
  },
  {
   "cell_type": "code",
   "execution_count": 5,
   "metadata": {},
   "outputs": [
    {
     "name": "stdout",
     "output_type": "stream",
     "text": [
      "Class  0  has  20874  clouds.\n",
      "Class  1  has  1196  clouds.\n",
      "Class  2  has  3192  clouds.\n",
      "Class  3  has  8412  clouds.\n"
     ]
    }
   ],
   "source": [
    "class_files = []\n",
    "for i in range(4):\n",
    "    class_file = glob.glob(class_folders[i]+'/*.ply')\n",
    "    print('Class ', i, ' has ', len(class_file), ' clouds.')\n",
    "    class_files.append(class_file)"
   ]
  },
  {
   "cell_type": "markdown",
   "metadata": {},
   "source": [
    "It is strange that some of the kitti ground truth data set has zero lidar points in the observation (May be they are left for RGB camera to detect). We won't want these in our training stage, and I think the clouds with less than 10 points may be useless. As a result, we first filter some of these small clouds."
   ]
  },
  {
   "cell_type": "code",
   "execution_count": 17,
   "metadata": {},
   "outputs": [
    {
     "name": "stderr",
     "output_type": "stream",
     "text": [
      "100% |########################################################################|\n",
      "100% |########################################################################|\n",
      "100% |########################################################################|\n",
      "100% |########################################################################|\r"
     ]
    },
    {
     "name": "stdout",
     "output_type": "stream",
     "text": [
      "delete  1236  clouds.\n"
     ]
    },
    {
     "name": "stderr",
     "output_type": "stream",
     "text": [
      "\n"
     ]
    }
   ],
   "source": [
    "# some files have zero points -> filter them\n",
    "num_delete = 0\n",
    "for i in range(4):\n",
    "    pbar = ProgressBar()\n",
    "    for k in pbar(range(len(class_files[i]))):\n",
    "        file_name = class_files[i][k]\n",
    "        with open(file_name, 'rb') as f:\n",
    "            plydata = PlyData.read(f)\n",
    "        if(plydata['vertex']['x'].shape[0] < 10):\n",
    "            os.remove(file_name)\n",
    "            num_delete += 1\n",
    "print('delete ', num_delete, ' clouds.')"
   ]
  },
  {
   "cell_type": "markdown",
   "metadata": {},
   "source": [
    "## 0. Go PointNet++ with the raw data\n",
    "\n",
    "That is to say pick about 1,000 clouds of each class, to see the result. \n",
    "\n",
    "* create the two sets\n",
    "* create class label file\n",
    "* create dataloader class"
   ]
  },
  {
   "cell_type": "code",
   "execution_count": 25,
   "metadata": {},
   "outputs": [
    {
     "name": "stdout",
     "output_type": "stream",
     "text": [
      "Take  1000  clouds of each class to train, and  190  clouds of each class to test.\n"
     ]
    }
   ],
   "source": [
    "# for each class\n",
    "num_train = 1000\n",
    "num_test = 190\n",
    "\n",
    "class_names = ['0', '1', '2', 'other']\n",
    "file_raw_train_set = source_folder + '/raw_train.txt'\n",
    "file_raw_test_set = source_folder + '/raw_test.txt'\n",
    "\n",
    "print('Take ', num_train, ' clouds of each class to train, and ', num_test, ' clouds of each class to test.')"
   ]
  },
  {
   "cell_type": "code",
   "execution_count": 21,
   "metadata": {},
   "outputs": [],
   "source": [
    "# create a file for class name\n",
    "file_class_name = source_folder + '/class_labels.txt'\n",
    "f_class = open(file_class_name, 'w')\n",
    "\n",
    "for i in range(len(class_names)):\n",
    "    write_line = class_names[i] + '\\n'\n",
    "    f_class.write(write_line)\n",
    "\n",
    "f_class.close()"
   ]
  },
  {
   "cell_type": "code",
   "execution_count": 22,
   "metadata": {},
   "outputs": [],
   "source": [
    "f_train_write = open(file_raw_train_set, 'w')\n",
    "f_test_write = open(file_raw_test_set, 'w')\n",
    "\n",
    "for i in range(4):\n",
    "    size_class = len(class_files[i])\n",
    "    files_array = np.asarray(class_files[i])\n",
    "    \n",
    "    train_and_test_ids = np.random.choice(size_class, (num_train+num_test), replace=False)\n",
    "    #print(train_and_test_ids[0:num_train])\n",
    "    train_files = files_array[train_and_test_ids[0:num_train]]\n",
    "    test_files = files_array[train_and_test_ids[num_train:]]\n",
    "    \n",
    "    for k in range(num_train):\n",
    "        file_name = train_files[k][len(source_folder)+len(class_names[i])+2:-4]\n",
    "        write_line = class_names[i] + '_' + file_name + '\\n'\n",
    "        f_train_write.write(write_line)\n",
    "    \n",
    "    for k in range(num_test):\n",
    "        file_name = test_files[k][len(source_folder)+len(class_names[i])+2:-4]\n",
    "        write_line = class_names[i] + '_' + file_name + '\\n'\n",
    "        f_test_write.write(write_line)\n",
    "\n",
    "f_train_write.close()\n",
    "f_test_write.close()"
   ]
  },
  {
   "cell_type": "markdown",
   "metadata": {},
   "source": [
    "#### PointNet++ commond\n",
    "code from https://github.com/yanx27/Pointnet_Pointnet2_pytorch\n",
    "\n",
    "* take 256 points as input (with duplication and random down sampling)\n",
    "* batch size 12 due to GPU memory limitation\n",
    "* also inlcudes the intensity as input (have four channels)\n",
    "\n",
    "python train_cls.py --model pointnet2_cls_msg_ly --normal --log_dir pointnet2_cls_msg_ly --batch_size=12\n",
    "\n",
    "#### run 20 epoches and get 89.8% as final accuray for test set"
   ]
  },
  {
   "cell_type": "code",
   "execution_count": 4,
   "metadata": {},
   "outputs": [
    {
     "data": {
      "text/html": [
       "<div>\n",
       "<style scoped>\n",
       "    .dataframe tbody tr th:only-of-type {\n",
       "        vertical-align: middle;\n",
       "    }\n",
       "\n",
       "    .dataframe tbody tr th {\n",
       "        vertical-align: top;\n",
       "    }\n",
       "\n",
       "    .dataframe thead th {\n",
       "        text-align: right;\n",
       "    }\n",
       "</style>\n",
       "<table border=\"1\" class=\"dataframe\">\n",
       "  <thead>\n",
       "    <tr style=\"text-align: right;\">\n",
       "      <th></th>\n",
       "      <th>i</th>\n",
       "      <th>loss</th>\n",
       "      <th>acc</th>\n",
       "    </tr>\n",
       "  </thead>\n",
       "  <tbody>\n",
       "    <tr>\n",
       "      <th>0</th>\n",
       "      <td>0</td>\n",
       "      <td>253.111225</td>\n",
       "      <td>0.710080</td>\n",
       "    </tr>\n",
       "    <tr>\n",
       "      <th>1</th>\n",
       "      <td>1</td>\n",
       "      <td>205.395354</td>\n",
       "      <td>0.778443</td>\n",
       "    </tr>\n",
       "    <tr>\n",
       "      <th>2</th>\n",
       "      <td>2</td>\n",
       "      <td>179.462851</td>\n",
       "      <td>0.801647</td>\n",
       "    </tr>\n",
       "  </tbody>\n",
       "</table>\n",
       "</div>"
      ],
      "text/plain": [
       "   i        loss       acc\n",
       "0  0  253.111225  0.710080\n",
       "1  1  205.395354  0.778443\n",
       "2  2  179.462851  0.801647"
      ]
     },
     "execution_count": 4,
     "metadata": {},
     "output_type": "execute_result"
    }
   ],
   "source": [
    "train_result_file = './run_results_raw_20/train_20.txt'\n",
    "train_result = pd.read_csv(train_result_file, ' ') \n",
    "train_result.head(3)"
   ]
  },
  {
   "cell_type": "code",
   "execution_count": 8,
   "metadata": {},
   "outputs": [
    {
     "data": {
      "text/plain": [
       "Text(0.5, 1.0, 'Loss of train set')"
      ]
     },
     "execution_count": 8,
     "metadata": {},
     "output_type": "execute_result"
    },
    {
     "data": {
      "image/png": "[encoded data removed]",
      "text/plain": [
       "<Figure size 1440x360 with 2 Axes>"
      ]
     },
     "metadata": {
      "needs_background": "light"
     },
     "output_type": "display_data"
    }
   ],
   "source": [
    "plt.figure(figsize=(20,5))\n",
    "plt.subplot(121)\n",
    "plt.plot(train_result['acc'])\n",
    "plt.title('Accuarcy of train set')\n",
    "plt.subplot(122)\n",
    "plt.plot(train_result['loss'])\n",
    "plt.title('Loss of train set')"
   ]
  },
  {
   "cell_type": "code",
   "execution_count": 11,
   "metadata": {},
   "outputs": [
    {
     "name": "stdout",
     "output_type": "stream",
     "text": [
      "the best accuracy we get is :  0.8984375\n"
     ]
    },
    {
     "data": {
      "text/html": [
       "<div>\n",
       "<style scoped>\n",
       "    .dataframe tbody tr th:only-of-type {\n",
       "        vertical-align: middle;\n",
       "    }\n",
       "\n",
       "    .dataframe tbody tr th {\n",
       "        vertical-align: top;\n",
       "    }\n",
       "\n",
       "    .dataframe thead th {\n",
       "        text-align: right;\n",
       "    }\n",
       "</style>\n",
       "<table border=\"1\" class=\"dataframe\">\n",
       "  <thead>\n",
       "    <tr style=\"text-align: right;\">\n",
       "      <th></th>\n",
       "      <th>i</th>\n",
       "      <th>acc_0</th>\n",
       "      <th>acc_1</th>\n",
       "      <th>acc_2</th>\n",
       "      <th>acc_other</th>\n",
       "      <th>acc_class</th>\n",
       "      <th>acc_full</th>\n",
       "    </tr>\n",
       "  </thead>\n",
       "  <tbody>\n",
       "    <tr>\n",
       "      <th>0</th>\n",
       "      <td>0</td>\n",
       "      <td>0.805208</td>\n",
       "      <td>0.825980</td>\n",
       "      <td>0.926471</td>\n",
       "      <td>0.789216</td>\n",
       "      <td>0.836719</td>\n",
       "      <td>0.833333</td>\n",
       "    </tr>\n",
       "    <tr>\n",
       "      <th>1</th>\n",
       "      <td>1</td>\n",
       "      <td>0.832292</td>\n",
       "      <td>0.720588</td>\n",
       "      <td>0.931373</td>\n",
       "      <td>0.848039</td>\n",
       "      <td>0.833073</td>\n",
       "      <td>0.830729</td>\n",
       "    </tr>\n",
       "    <tr>\n",
       "      <th>2</th>\n",
       "      <td>2</td>\n",
       "      <td>0.942708</td>\n",
       "      <td>0.931373</td>\n",
       "      <td>0.857843</td>\n",
       "      <td>0.710784</td>\n",
       "      <td>0.860677</td>\n",
       "      <td>0.855469</td>\n",
       "    </tr>\n",
       "  </tbody>\n",
       "</table>\n",
       "</div>"
      ],
      "text/plain": [
       "   i     acc_0     acc_1     acc_2  acc_other  acc_class  acc_full\n",
       "0  0  0.805208  0.825980  0.926471   0.789216   0.836719  0.833333\n",
       "1  1  0.832292  0.720588  0.931373   0.848039   0.833073  0.830729\n",
       "2  2  0.942708  0.931373  0.857843   0.710784   0.860677  0.855469"
      ]
     },
     "execution_count": 11,
     "metadata": {},
     "output_type": "execute_result"
    }
   ],
   "source": [
    "test_result_file = './run_results_raw_20/test_20.txt'\n",
    "test_result = pd.read_csv(test_result_file, ' ') \n",
    "print('the best accuracy we get is : ', max(test_result['acc_full']) )\n",
    "test_result.head(3)"
   ]
  },
  {
   "cell_type": "code",
   "execution_count": 10,
   "metadata": {},
   "outputs": [
    {
     "data": {
      "text/plain": [
       "Text(0.5, 1.0, 'Average accuracy of all test')"
      ]
     },
     "execution_count": 10,
     "metadata": {},
     "output_type": "execute_result"
    },
    {
     "data": {
      "image/png": "[encoded data removed]",
      "text/plain": [
       "<Figure size 1440x360 with 2 Axes>"
      ]
     },
     "metadata": {
      "needs_background": "light"
     },
     "output_type": "display_data"
    }
   ],
   "source": [
    "plt.figure(figsize=(20,5))\n",
    "plt.subplot(121);plt.plot(test_result['acc_class']);plt.title('Average accuracy of four classes')\n",
    "plt.subplot(122);plt.plot(test_result['acc_full']);plt.title('Average accuracy of all test')"
   ]
  },
  {
   "cell_type": "code",
   "execution_count": 15,
   "metadata": {},
   "outputs": [
    {
     "data": {
      "text/plain": [
       "Text(0.5, 1.0, 'Accuracy of Other')"
      ]
     },
     "execution_count": 15,
     "metadata": {},
     "output_type": "execute_result"
    },
    {
     "data": {
      "image/png": "[encoded data removed]",
      "text/plain": [
       "<Figure size 1440x216 with 4 Axes>"
      ]
     },
     "metadata": {
      "needs_background": "light"
     },
     "output_type": "display_data"
    }
   ],
   "source": [
    "plt.figure(figsize=(20,3))\n",
    "plt.subplot(141);plt.plot(test_result['acc_0']);plt.title('Accuracy of Car')\n",
    "plt.subplot(142);plt.plot(test_result['acc_1']);plt.title('Accuracy of Cyclist')\n",
    "plt.subplot(143);plt.plot(test_result['acc_2']);plt.title('Accuracy of Pedestrian')\n",
    "plt.subplot(144);plt.plot(test_result['acc_other']);plt.title('Accuracy of Other')"
   ]
  },
  {
   "cell_type": "markdown",
   "metadata": {},
   "source": [
    "## 1. Choose data set size\n",
    "\n",
    "* We should not rotate the data, as the data is captured from defined direction, rotate it may destory it.\n",
    "\n",
    "I prepare to collect 3,000 clouds for each class. (as we see the result from modelnet-40 set, which has less than 1,000 clouds for each class). Considering our task may be a bit harder, as the clouds vary a lot (and we cannot rotate the cloud), I think 3,000 should be enough.\n",
    "\n",
    "## 2. Augment the data\n",
    "\n",
    "The class with more data, I will randomly down-sample them.\n",
    "Then we should augment the class with less than 3,000 clouds, which are the \"cyclist\", and \"pedestrian\". \n",
    "\n",
    "* We could down-sample the large cloud to create new cloud.\n",
    "* As we could have occlusion, we could cut part of the cloud to generate new ones.   \n",
    "  * we could only cut the head from \"pedestrian\" set, as the head of cyclists are exactly pedestrians, which will introduce uncertainty. \n",
    "  * we could cut vertically of the sets. which will be good."
   ]
  },
  {
   "cell_type": "code",
   "execution_count": null,
   "metadata": {},
   "outputs": [],
   "source": [
    "def augment_data(cloud):\n",
    "    #TODO"
   ]
  },
  {
   "cell_type": "markdown",
   "metadata": {},
   "source": [
    "## 3. Make 3D bounding box\n"
   ]
  },
  {
   "cell_type": "code",
   "execution_count": 127,
   "metadata": {},
   "outputs": [
    {
     "data": {
      "text/plain": [
       "<module 'mine_clustering.Kitti_utils' from 'D:\\\\xr\\\\study\\\\point cloud\\\\FinalProject\\\\mine_clustering\\\\Kitti_utils.py'>"
      ]
     },
     "execution_count": 127,
     "metadata": {},
     "output_type": "execute_result"
    }
   ],
   "source": [
    "from mine_clustering import Kitti_utils\n",
    "import imp\n",
    "imp.reload(Kitti_utils)"
   ]
  },
  {
   "cell_type": "markdown",
   "metadata": {},
   "source": [
    "#### load a test cloud and segment it"
   ]
  },
  {
   "cell_type": "code",
   "execution_count": 9,
   "metadata": {},
   "outputs": [
    {
     "name": "stdout",
     "output_type": "stream",
     "text": [
      "There are  7481  files\n"
     ]
    }
   ],
   "source": [
    "folder_ground_truth = 'D:/xr/study/point cloud/Dataset/training/label_2'\n",
    "folder_point_cloud = 'D:/xr/study/point cloud/Dataset/training/velodyne'\n",
    "files_ground_truth = glob.glob(folder_ground_truth + '/*.txt')\n",
    "print(\"There are \", len(files_ground_truth), \" files\")"
   ]
  },
  {
   "cell_type": "code",
   "execution_count": null,
   "metadata": {},
   "outputs": [],
   "source": [
    "def segmentation_cloud(folder_point_cloud, file_gt, eps = 0.25):\n",
    "    file_name = file_gt[-10:-4]\n",
    "    file_velodyne = folder_point_cloud + '/' + file_name + '.bin'"
   ]
  },
  {
   "cell_type": "code",
   "execution_count": 141,
   "metadata": {},
   "outputs": [
    {
     "name": "stdout",
     "output_type": "stream",
     "text": [
      "D:/xr/study/point cloud/Dataset/training/label_2\\000458.txt\n",
      "result in  17  clusters.\n"
     ]
    }
   ],
   "source": [
    "colors = [[0,1,0], [1,1,0], [1,0,1],\n",
    "          [0,0,1], [0,1,1], [0.5,0.5,0],\n",
    "          [1,0,0], [0.3,0,0.6], [0.8,0,0.1]]\n",
    "\n",
    "idx = 458\n",
    "#idx = random.randint(0,7000)\n",
    "print(files_ground_truth[idx])\n",
    "segmented_points, cluster_index, floor_cloud = Kitti_utils.segmentation_cloud(folder_point_cloud, files_ground_truth[idx],0.25)\n",
    "#mine_seg.plot_clusters_o3d(segmented_points, cluster_index, floor_cloud)\n",
    "\n",
    "num_filtered = 0\n",
    "cluster_show = []\n",
    "for i in range(max(cluster_index)):\n",
    "    cluster_pts = segmented_points[cluster_index==i]\n",
    "    ret = Kitti_utils.judge_the_dbscan_cloud(cluster_pts[:,0:3])\n",
    "    if(ret):\n",
    "        color = colors[num_filtered%len(colors)]\n",
    "        num_filtered += 1\n",
    "        colors_cluster = [color for i in range(cluster_pts.shape[0])]\n",
    "        point_cloud_o3d = o3d.geometry.PointCloud()\n",
    "        point_cloud_o3d.points = o3d.utility.Vector3dVector(cluster_pts[:,0:3].reshape(-1,3))\n",
    "        point_cloud_o3d.colors = o3d.utility.Vector3dVector(colors_cluster)\n",
    "        cluster_show.append(point_cloud_o3d)\n",
    "print('result in ', num_filtered, ' clusters.')\n",
    "\n",
    "point_cloud_floor = o3d.geometry.PointCloud()\n",
    "point_cloud_floor.points = o3d.utility.Vector3dVector(floor_cloud[:,0:3].reshape(-1,3))\n",
    "colors_floor = [[0, 0, 0] for i in range(floor_cloud.shape[0])]\n",
    "point_cloud_floor.colors = o3d.utility.Vector3dVector(colors_floor)\n",
    "\n",
    "cluster_show.append(point_cloud_floor)\n",
    "o3d.visualization.draw_geometries(cluster_show)"
   ]
  },
  {
   "cell_type": "markdown",
   "metadata": {},
   "source": [
    "#### Check the bounding box results"
   ]
  },
  {
   "cell_type": "code",
   "execution_count": 29,
   "metadata": {},
   "outputs": [],
   "source": [
    "def get_ground_z(input_cloud):\n",
    "    distance = np.sqrt(input_cloud[:, 1]*input_cloud[:, 1]+input_cloud[:, 0]*input_cloud[:, 0])\n",
    "    close_ground = input_cloud[distance < 10]\n",
    "    return np.mean(close_ground[:,2])\n",
    "    \n",
    "def length_in_direction_2d(points_2d, direction):\n",
    "    projections_on_normal = np.dot(points_2d, direction)\n",
    "    return max(projections_on_normal)-min(projections_on_normal)\n",
    "    \n",
    "def make_bounding_box(cluster_pts, ground_z):\n",
    "    points_2d = cluster_pts[:,0:2]\n",
    "    eigenvalues, eigenvectors = Kitti_utils.PCA(points_2d)\n",
    "    direction_1 = np.transpose(eigenvectors[:, 0])\n",
    "    length_1 = length_in_direction_2d(points_2d,direction_1)\n",
    "    length_2 = length_in_direction_2d(points_2d,np.transpose(eigenvectors[:, 1]))\n",
    "    \n",
    "    angle = np.arctan2(direction_1[0], direction_1[1])\n",
    "    #print(length_1, length_2, angle)\n",
    "    return length_1, length_2, angle\n",
    "\n",
    "def plot_bounding_box_2d(points_2d, w, l, angle):\n",
    "    points_vertices = np.array([[l/2, w/2],[l/2,-w/2],[-l/2, w/2], [-l/2, -w/2]])\n",
    "    rotation_matrix = np.array([[np.cos(angle), np.sin(angle)], [-np.sin(angle), np.cos(angle)]])\n",
    "    rotated_vertices = np.dot(rotation_matrix, (points_vertices.transpose())).transpose()\n",
    "    rotated_vertices = rotated_vertices + np.mean(points_2d ,0)\n",
    "\n",
    "    plt.plot(points_2d[:,0], points_2d[:,1], 'o')\n",
    "    plt.plot(rotated_vertices[:,0], rotated_vertices[:,1], '*')\n",
    "    print(rotated_vertices, np.mean(points_2d ,0))"
   ]
  },
  {
   "cell_type": "code",
   "execution_count": 14,
   "metadata": {
    "scrolled": false
   },
   "outputs": [
    {
     "name": "stdout",
     "output_type": "stream",
     "text": [
      "2.008337 0.32102203 -2.987263\n",
      "[[10.06270284 -3.31838589]\n",
      " [10.37141996 -1.33391841]\n",
      " [10.37990946 -3.36773269]\n",
      " [10.68862658 -1.38326521]] [10.375665  -2.3508255]\n"
     ]
    },
    {
     "data": {
      "image/png": "[encoded data removed]",
      "text/plain": [
       "<Figure size 432x288 with 1 Axes>"
      ]
     },
     "metadata": {
      "needs_background": "light"
     },
     "output_type": "display_data"
    }
   ],
   "source": [
    "length_1, length_2, angle = make_bounding_box(cluster_pts, -1.6)\n",
    "plot_bounding_box_2d(cluster_pts[:,0:2],length_1, length_2, angle)"
   ]
  },
  {
   "cell_type": "code",
   "execution_count": 132,
   "metadata": {},
   "outputs": [],
   "source": [
    "def get_segmentation_and_bounding_box(folder_point_cloud, file_gt):\n",
    "    segmented_points, cluster_index, floor_cloud = Kitti_utils.segmentation_cloud(folder_point_cloud, file_gt, 0.25)\n",
    "    num_filtered = 0\n",
    "    box_sets = []\n",
    "    if_show = True\n",
    "    for i in range(max(cluster_index)):\n",
    "        cluster_pts = segmented_points[cluster_index==i]\n",
    "        ret = Kitti_utils.judge_the_dbscan_cloud(cluster_pts[:,0:3])\n",
    "        if(ret and if_show):\n",
    "            color = colors[num_filtered%len(colors)]\n",
    "            num_filtered += 1\n",
    "            colors_cluster = [color for i in range(cluster_pts.shape[0])]\n",
    "            point_cloud_o3d = o3d.geometry.PointCloud()\n",
    "            point_cloud_o3d.points = o3d.utility.Vector3dVector(cluster_pts[:,0:3].reshape(-1,3))\n",
    "            point_cloud_o3d.colors = o3d.utility.Vector3dVector(colors_cluster)\n",
    "            box_sets.append(point_cloud_o3d)\n",
    "        if(ret):\n",
    "            h = 1.6\n",
    "            length_1, length_2, angle = make_bounding_box(cluster_pts, h)\n",
    "            center_pt = np.mean(cluster_pts ,0)\n",
    "            box_set = Kitti_utils.get_3d_box(angle-np.pi/2, -center_pt[1], h, center_pt[0], length_1, h ,length_2)\n",
    "            box_sets.append(box_set)\n",
    "            \n",
    "    print('result in ', num_filtered, ' clusters.')\n",
    "    point_cloud_floor = o3d.geometry.PointCloud()\n",
    "    point_cloud_floor.points = o3d.utility.Vector3dVector(floor_cloud[:,0:3].reshape(-1,3))\n",
    "    colors_floor = [[0, 0, 0] for i in range(floor_cloud.shape[0])]\n",
    "    point_cloud_floor.colors = o3d.utility.Vector3dVector(colors_floor)\n",
    "    \n",
    "    box_sets.append(point_cloud_floor)\n",
    "    return box_sets"
   ]
  },
  {
   "cell_type": "code",
   "execution_count": 133,
   "metadata": {},
   "outputs": [
    {
     "name": "stdout",
     "output_type": "stream",
     "text": [
      "D:/xr/study/point cloud/Dataset/training/label_2\\000458.txt\n",
      "result in  29  clusters.\n"
     ]
    }
   ],
   "source": [
    "# test\n",
    "idx = 458\n",
    "print(files_ground_truth[idx])\n",
    "show_sets = get_segmentation_and_bounding_box(folder_point_cloud, files_ground_truth[idx])\n",
    "o3d.visualization.draw_geometries(show_sets)"
   ]
  },
  {
   "cell_type": "markdown",
   "metadata": {},
   "source": [
    "Here is the result of a test of bounding box assignment.\n",
    "\n",
    "![boundingbox_assignment](images/boundingbox_assignment.PNG)"
   ]
  },
  {
   "cell_type": "markdown",
   "metadata": {},
   "source": [
    "## 4. Run the model and write the results"
   ]
  },
  {
   "cell_type": "code",
   "execution_count": 67,
   "metadata": {},
   "outputs": [],
   "source": [
    "import torch\n",
    "import importlib"
   ]
  },
  {
   "cell_type": "code",
   "execution_count": 137,
   "metadata": {},
   "outputs": [],
   "source": [
    "num_class = 4\n",
    "labels = ['Car', 'Cyclist', 'Pedestrian']\n",
    "ROOT_DIR = './'\n",
    "sys.path.append(os.path.join(ROOT_DIR, 'pointnet2/models'))\n",
    "model_name = 'pointnet2_cls_msg_ly'\n",
    "MODEL = importlib.import_module(model_name)\n",
    "classifier = MODEL.get_model(num_class, True).cuda()"
   ]
  },
  {
   "cell_type": "code",
   "execution_count": 138,
   "metadata": {},
   "outputs": [
    {
     "data": {
      "text/plain": [
       "<All keys matched successfully>"
      ]
     },
     "execution_count": 138,
     "metadata": {},
     "output_type": "execute_result"
    }
   ],
   "source": [
    "pointnet_model_path = './pointnet2/pointnet2_cls_msg_ly/checkpoints/best_model.pth'\n",
    "checkpoint = torch.load(pointnet_model_path)\n",
    "classifier.load_state_dict(checkpoint['model_state_dict'])"
   ]
  },
  {
   "cell_type": "code",
   "execution_count": 122,
   "metadata": {},
   "outputs": [],
   "source": [
    "def pc_normalize(pc):\n",
    "    centroid = np.mean(pc, axis=0)\n",
    "    pc = pc - centroid\n",
    "    m = np.max(np.sqrt(np.sum(pc**2, axis=1)))\n",
    "    pc = pc / m\n",
    "    return pc\n",
    "\n",
    "def up_sample_points(points, npoint):\n",
    "    if(points.shape[0] >= npoint):\n",
    "        return points\n",
    "\n",
    "    output_points = points\n",
    "    num_copies = (int)(npoint/points.shape[0]) + 1\n",
    "    for i in range(num_copies-1):\n",
    "        output_points = np.concatenate((output_points, points), axis=0)\n",
    "\n",
    "    return output_points\n",
    "\n",
    "def random_sample_points(points, npoint):\n",
    "    indices = np.random.choice(points.shape[0], npoint, replace=False)\n",
    "    return points[indices]\n",
    "\n",
    "def classify_cluster(model, cluster, num_class, npoints=256):\n",
    "    points = pc_normalize(cluster)\n",
    "    points = up_sample_points(points, npoints)\n",
    "    points = np.array([points])\n",
    "    points = torch.from_numpy(points).cuda()\n",
    "    points = points.transpose(2, 1)\n",
    "    \n",
    "    classifier = model.eval()\n",
    "    pred, _ = classifier(points)\n",
    "    pred_choice = pred.data.max(1)[1]\n",
    "    return pred_choice.cpu().numpy()[0]"
   ]
  },
  {
   "cell_type": "code",
   "execution_count": 136,
   "metadata": {},
   "outputs": [],
   "source": [
    "def segmentation_classify_and_bounding_box(model, num_class, folder_point_cloud, file_gt, output_path):\n",
    "    segmented_points, cluster_index, floor_cloud = Kitti_utils.segmentation_cloud(folder_point_cloud, file_gt, 0.5)\n",
    "    output_file = output_path + file_gt[-10:-4] + '.txt'\n",
    "    f_output = open(output_file, 'w')\n",
    "    \n",
    "    num_filtered = 0\n",
    "    box_sets = []\n",
    "    for i in range(max(cluster_index)):\n",
    "        cluster_pts = segmented_points[cluster_index==i]\n",
    "        ret = Kitti_utils.judge_the_dbscan_cloud(cluster_pts[:,0:3])\n",
    "        \n",
    "#         if(ret):\n",
    "#             color = colors[num_filtered%len(colors)]\n",
    "#             num_filtered += 1\n",
    "#             colors_cluster = [color for i in range(cluster_pts.shape[0])]\n",
    "#             point_cloud_o3d = o3d.geometry.PointCloud()\n",
    "#             point_cloud_o3d.points = o3d.utility.Vector3dVector(cluster_pts[:,0:3].reshape(-1,3))\n",
    "#             point_cloud_o3d.colors = o3d.utility.Vector3dVector(colors_cluster)\n",
    "#             box_sets.append(point_cloud_o3d)\n",
    "            \n",
    "        if(ret):\n",
    "            # classify using point net ++\n",
    "            result_class = classify_cluster(model, cluster_pts, num_class)\n",
    "            if(result_class == 3):\n",
    "                continue\n",
    "            \n",
    "            label = labels[result_class]\n",
    "            #print('label is : ', label)\n",
    "            \n",
    "            h = 1.6\n",
    "            length_1, length_2, angle = make_bounding_box(cluster_pts, h)\n",
    "            center_pt = np.mean(cluster_pts ,0)\n",
    "\n",
    "            write_line = label + ' -1 -1 -10 50 50 60 60 ' + str(h) + ' ' + str(length_1) + ' ' + str(length_2) + ' ' + str(-center_pt[1]) + ' ' + str(h) + ' ' + str(center_pt[0]) + ' ' + str(angle-np.pi/2) + '\\n'\n",
    "            f_output.write(write_line)\n",
    "\n",
    "#             color_y = 0\n",
    "#             if(result_class == 0):\n",
    "#                 color_y = 1\n",
    "#             box_set = Kitti_utils.get_3d_box(angle-np.pi/2, -center_pt[1], 0.0, center_pt[0], length_1, h ,length_2, color_y)\n",
    "#             box_sets.append(box_set)\n",
    "            \n",
    "#     point_cloud_floor = o3d.geometry.PointCloud()\n",
    "#     point_cloud_floor.points = o3d.utility.Vector3dVector(floor_cloud[:,0:3].reshape(-1,3))\n",
    "#     colors_floor = [[0, 0, 0] for i in range(floor_cloud.shape[0])]\n",
    "#     point_cloud_floor.colors = o3d.utility.Vector3dVector(colors_floor)\n",
    "    \n",
    "#     box_sets.append(point_cloud_floor)\n",
    "    \n",
    "    f_output.close()\n",
    "    return"
   ]
  },
  {
   "cell_type": "code",
   "execution_count": 129,
   "metadata": {},
   "outputs": [
    {
     "name": "stdout",
     "output_type": "stream",
     "text": [
      "D:/xr/study/point cloud/Dataset/training/label_2\\000458.txt\n"
     ]
    }
   ],
   "source": [
    "# test\n",
    "# idx = 458\n",
    "# print(files_ground_truth[idx])\n",
    "# show_sets = segmentation_classify_and_bounding_box(classifier.eval(), num_class, folder_point_cloud, files_ground_truth[idx])\n",
    "# o3d.visualization.draw_geometries(show_sets)"
   ]
  },
  {
   "cell_type": "code",
   "execution_count": 140,
   "metadata": {
    "scrolled": true
   },
   "outputs": [
    {
     "name": "stderr",
     "output_type": "stream",
     "text": [
      "D:\\xr\\study\\point cloud\\FinalProject\\mine_clustering\\Kitti_utils.py:163: RuntimeWarning: invalid value encountered in float_scalars\n",
      "  thre = np.abs(np.dot(normalized_pts[i], main_direction)) / np.linalg.norm(normalized_pts[i])\n",
      "D:\\xr\\study\\point cloud\\FinalProject\\mine_clustering\\Kitti_utils.py:176: RuntimeWarning: invalid value encountered in float_scalars\n",
      "  thre = np.abs(np.dot(normalized_pts[i], main_direction)) / np.linalg.norm(normalized_pts[i])\n",
      "D:\\xr\\study\\point cloud\\FinalProject\\mine_clustering\\Kitti_utils.py:163: RuntimeWarning: invalid value encountered in float_scalars\n",
      "  thre = np.abs(np.dot(normalized_pts[i], main_direction)) / np.linalg.norm(normalized_pts[i])\n",
      "D:\\xr\\study\\point cloud\\FinalProject\\mine_clustering\\Kitti_utils.py:176: RuntimeWarning: invalid value encountered in float_scalars\n",
      "  thre = np.abs(np.dot(normalized_pts[i], main_direction)) / np.linalg.norm(normalized_pts[i])\n",
      "D:\\xr\\study\\point cloud\\FinalProject\\mine_clustering\\Kitti_utils.py:163: RuntimeWarning: invalid value encountered in float_scalars\n",
      "  thre = np.abs(np.dot(normalized_pts[i], main_direction)) / np.linalg.norm(normalized_pts[i])\n",
      "D:\\xr\\study\\point cloud\\FinalProject\\mine_clustering\\Kitti_utils.py:176: RuntimeWarning: invalid value encountered in float_scalars\n",
      "  thre = np.abs(np.dot(normalized_pts[i], main_direction)) / np.linalg.norm(normalized_pts[i])\n",
      "D:\\xr\\study\\point cloud\\FinalProject\\mine_clustering\\Kitti_utils.py:163: RuntimeWarning: invalid value encountered in float_scalars\n",
      "  thre = np.abs(np.dot(normalized_pts[i], main_direction)) / np.linalg.norm(normalized_pts[i])\n",
      "D:\\xr\\study\\point cloud\\FinalProject\\mine_clustering\\Kitti_utils.py:176: RuntimeWarning: invalid value encountered in float_scalars\n",
      "  thre = np.abs(np.dot(normalized_pts[i], main_direction)) / np.linalg.norm(normalized_pts[i])\n",
      "D:\\xr\\study\\point cloud\\FinalProject\\mine_clustering\\Kitti_utils.py:163: RuntimeWarning: invalid value encountered in float_scalars\n",
      "  thre = np.abs(np.dot(normalized_pts[i], main_direction)) / np.linalg.norm(normalized_pts[i])\n",
      "D:\\xr\\study\\point cloud\\FinalProject\\mine_clustering\\Kitti_utils.py:176: RuntimeWarning: invalid value encountered in float_scalars\n",
      "  thre = np.abs(np.dot(normalized_pts[i], main_direction)) / np.linalg.norm(normalized_pts[i])\n",
      "D:\\xr\\study\\point cloud\\FinalProject\\mine_clustering\\Kitti_utils.py:163: RuntimeWarning: invalid value encountered in float_scalars\n",
      "  thre = np.abs(np.dot(normalized_pts[i], main_direction)) / np.linalg.norm(normalized_pts[i])\n",
      "D:\\xr\\study\\point cloud\\FinalProject\\mine_clustering\\Kitti_utils.py:176: RuntimeWarning: invalid value encountered in float_scalars\n",
      "  thre = np.abs(np.dot(normalized_pts[i], main_direction)) / np.linalg.norm(normalized_pts[i])\n",
      "D:\\xr\\study\\point cloud\\FinalProject\\mine_clustering\\Kitti_utils.py:163: RuntimeWarning: invalid value encountered in float_scalars\n",
      "  thre = np.abs(np.dot(normalized_pts[i], main_direction)) / np.linalg.norm(normalized_pts[i])\n",
      "D:\\xr\\study\\point cloud\\FinalProject\\mine_clustering\\Kitti_utils.py:176: RuntimeWarning: invalid value encountered in float_scalars\n",
      "  thre = np.abs(np.dot(normalized_pts[i], main_direction)) / np.linalg.norm(normalized_pts[i])\n",
      "D:\\xr\\study\\point cloud\\FinalProject\\mine_clustering\\Kitti_utils.py:163: RuntimeWarning: invalid value encountered in float_scalars\n",
      "  thre = np.abs(np.dot(normalized_pts[i], main_direction)) / np.linalg.norm(normalized_pts[i])\n",
      "D:\\xr\\study\\point cloud\\FinalProject\\mine_clustering\\Kitti_utils.py:176: RuntimeWarning: invalid value encountered in float_scalars\n",
      "  thre = np.abs(np.dot(normalized_pts[i], main_direction)) / np.linalg.norm(normalized_pts[i])\n",
      "D:\\xr\\study\\point cloud\\FinalProject\\mine_clustering\\Kitti_utils.py:163: RuntimeWarning: invalid value encountered in float_scalars\n",
      "  thre = np.abs(np.dot(normalized_pts[i], main_direction)) / np.linalg.norm(normalized_pts[i])\n",
      "D:\\xr\\study\\point cloud\\FinalProject\\mine_clustering\\Kitti_utils.py:176: RuntimeWarning: invalid value encountered in float_scalars\n",
      "  thre = np.abs(np.dot(normalized_pts[i], main_direction)) / np.linalg.norm(normalized_pts[i])\n",
      "D:\\xr\\study\\point cloud\\FinalProject\\mine_clustering\\Kitti_utils.py:163: RuntimeWarning: invalid value encountered in float_scalars\n",
      "  thre = np.abs(np.dot(normalized_pts[i], main_direction)) / np.linalg.norm(normalized_pts[i])\n",
      "D:\\xr\\study\\point cloud\\FinalProject\\mine_clustering\\Kitti_utils.py:176: RuntimeWarning: invalid value encountered in float_scalars\n",
      "  thre = np.abs(np.dot(normalized_pts[i], main_direction)) / np.linalg.norm(normalized_pts[i])\n",
      "D:\\xr\\study\\point cloud\\FinalProject\\mine_clustering\\Kitti_utils.py:163: RuntimeWarning: invalid value encountered in float_scalars\n",
      "  thre = np.abs(np.dot(normalized_pts[i], main_direction)) / np.linalg.norm(normalized_pts[i])\n",
      "D:\\xr\\study\\point cloud\\FinalProject\\mine_clustering\\Kitti_utils.py:176: RuntimeWarning: invalid value encountered in float_scalars\n",
      "  thre = np.abs(np.dot(normalized_pts[i], main_direction)) / np.linalg.norm(normalized_pts[i])\n",
      "D:\\xr\\study\\point cloud\\FinalProject\\mine_clustering\\Kitti_utils.py:163: RuntimeWarning: invalid value encountered in float_scalars\n",
      "  thre = np.abs(np.dot(normalized_pts[i], main_direction)) / np.linalg.norm(normalized_pts[i])\n",
      "D:\\xr\\study\\point cloud\\FinalProject\\mine_clustering\\Kitti_utils.py:176: RuntimeWarning: invalid value encountered in float_scalars\n",
      "  thre = np.abs(np.dot(normalized_pts[i], main_direction)) / np.linalg.norm(normalized_pts[i])\n",
      "D:\\xr\\study\\point cloud\\FinalProject\\mine_clustering\\Kitti_utils.py:163: RuntimeWarning: invalid value encountered in float_scalars\n",
      "  thre = np.abs(np.dot(normalized_pts[i], main_direction)) / np.linalg.norm(normalized_pts[i])\n",
      "D:\\xr\\study\\point cloud\\FinalProject\\mine_clustering\\Kitti_utils.py:176: RuntimeWarning: invalid value encountered in float_scalars\n",
      "  thre = np.abs(np.dot(normalized_pts[i], main_direction)) / np.linalg.norm(normalized_pts[i])\n",
      "D:\\xr\\study\\point cloud\\FinalProject\\mine_clustering\\Kitti_utils.py:163: RuntimeWarning: invalid value encountered in float_scalars\n",
      "  thre = np.abs(np.dot(normalized_pts[i], main_direction)) / np.linalg.norm(normalized_pts[i])\n",
      "D:\\xr\\study\\point cloud\\FinalProject\\mine_clustering\\Kitti_utils.py:176: RuntimeWarning: invalid value encountered in float_scalars\n",
      "  thre = np.abs(np.dot(normalized_pts[i], main_direction)) / np.linalg.norm(normalized_pts[i])\n",
      "D:\\xr\\study\\point cloud\\FinalProject\\mine_clustering\\Kitti_utils.py:163: RuntimeWarning: invalid value encountered in float_scalars\n",
      "  thre = np.abs(np.dot(normalized_pts[i], main_direction)) / np.linalg.norm(normalized_pts[i])\n",
      "D:\\xr\\study\\point cloud\\FinalProject\\mine_clustering\\Kitti_utils.py:176: RuntimeWarning: invalid value encountered in float_scalars\n",
      "  thre = np.abs(np.dot(normalized_pts[i], main_direction)) / np.linalg.norm(normalized_pts[i])\n",
      "D:\\xr\\study\\point cloud\\FinalProject\\mine_clustering\\Kitti_utils.py:163: RuntimeWarning: invalid value encountered in float_scalars\n",
      "  thre = np.abs(np.dot(normalized_pts[i], main_direction)) / np.linalg.norm(normalized_pts[i])\n",
      "D:\\xr\\study\\point cloud\\FinalProject\\mine_clustering\\Kitti_utils.py:176: RuntimeWarning: invalid value encountered in float_scalars\n",
      "  thre = np.abs(np.dot(normalized_pts[i], main_direction)) / np.linalg.norm(normalized_pts[i])\n",
      "D:\\xr\\study\\point cloud\\FinalProject\\mine_clustering\\Kitti_utils.py:163: RuntimeWarning: invalid value encountered in float_scalars\n",
      "  thre = np.abs(np.dot(normalized_pts[i], main_direction)) / np.linalg.norm(normalized_pts[i])\n",
      "D:\\xr\\study\\point cloud\\FinalProject\\mine_clustering\\Kitti_utils.py:176: RuntimeWarning: invalid value encountered in float_scalars\n",
      "  thre = np.abs(np.dot(normalized_pts[i], main_direction)) / np.linalg.norm(normalized_pts[i])\n",
      "D:\\xr\\study\\point cloud\\FinalProject\\mine_clustering\\Kitti_utils.py:163: RuntimeWarning: invalid value encountered in float_scalars\n",
      "  thre = np.abs(np.dot(normalized_pts[i], main_direction)) / np.linalg.norm(normalized_pts[i])\n",
      "D:\\xr\\study\\point cloud\\FinalProject\\mine_clustering\\Kitti_utils.py:176: RuntimeWarning: invalid value encountered in float_scalars\n",
      "  thre = np.abs(np.dot(normalized_pts[i], main_direction)) / np.linalg.norm(normalized_pts[i])\n"
     ]
    },
    {
     "name": "stderr",
     "output_type": "stream",
     "text": [
      "D:\\xr\\study\\point cloud\\FinalProject\\mine_clustering\\Kitti_utils.py:163: RuntimeWarning: invalid value encountered in float_scalars\n",
      "  thre = np.abs(np.dot(normalized_pts[i], main_direction)) / np.linalg.norm(normalized_pts[i])\n",
      "D:\\xr\\study\\point cloud\\FinalProject\\mine_clustering\\Kitti_utils.py:176: RuntimeWarning: invalid value encountered in float_scalars\n",
      "  thre = np.abs(np.dot(normalized_pts[i], main_direction)) / np.linalg.norm(normalized_pts[i])\n",
      "D:\\xr\\study\\point cloud\\FinalProject\\mine_clustering\\Kitti_utils.py:163: RuntimeWarning: invalid value encountered in float_scalars\n",
      "  thre = np.abs(np.dot(normalized_pts[i], main_direction)) / np.linalg.norm(normalized_pts[i])\n",
      "D:\\xr\\study\\point cloud\\FinalProject\\mine_clustering\\Kitti_utils.py:176: RuntimeWarning: invalid value encountered in float_scalars\n",
      "  thre = np.abs(np.dot(normalized_pts[i], main_direction)) / np.linalg.norm(normalized_pts[i])\n",
      "D:\\xr\\study\\point cloud\\FinalProject\\mine_clustering\\Kitti_utils.py:163: RuntimeWarning: invalid value encountered in float_scalars\n",
      "  thre = np.abs(np.dot(normalized_pts[i], main_direction)) / np.linalg.norm(normalized_pts[i])\n",
      "D:\\xr\\study\\point cloud\\FinalProject\\mine_clustering\\Kitti_utils.py:176: RuntimeWarning: invalid value encountered in float_scalars\n",
      "  thre = np.abs(np.dot(normalized_pts[i], main_direction)) / np.linalg.norm(normalized_pts[i])\n",
      "D:\\xr\\study\\point cloud\\FinalProject\\mine_clustering\\Kitti_utils.py:163: RuntimeWarning: invalid value encountered in float_scalars\n",
      "  thre = np.abs(np.dot(normalized_pts[i], main_direction)) / np.linalg.norm(normalized_pts[i])\n",
      "D:\\xr\\study\\point cloud\\FinalProject\\mine_clustering\\Kitti_utils.py:176: RuntimeWarning: invalid value encountered in float_scalars\n",
      "  thre = np.abs(np.dot(normalized_pts[i], main_direction)) / np.linalg.norm(normalized_pts[i])\n",
      "D:\\xr\\study\\point cloud\\FinalProject\\mine_clustering\\Kitti_utils.py:163: RuntimeWarning: invalid value encountered in float_scalars\n",
      "  thre = np.abs(np.dot(normalized_pts[i], main_direction)) / np.linalg.norm(normalized_pts[i])\n",
      "D:\\xr\\study\\point cloud\\FinalProject\\mine_clustering\\Kitti_utils.py:176: RuntimeWarning: invalid value encountered in float_scalars\n",
      "  thre = np.abs(np.dot(normalized_pts[i], main_direction)) / np.linalg.norm(normalized_pts[i])\n",
      "D:\\xr\\study\\point cloud\\FinalProject\\mine_clustering\\Kitti_utils.py:163: RuntimeWarning: invalid value encountered in float_scalars\n",
      "  thre = np.abs(np.dot(normalized_pts[i], main_direction)) / np.linalg.norm(normalized_pts[i])\n",
      "D:\\xr\\study\\point cloud\\FinalProject\\mine_clustering\\Kitti_utils.py:176: RuntimeWarning: invalid value encountered in float_scalars\n",
      "  thre = np.abs(np.dot(normalized_pts[i], main_direction)) / np.linalg.norm(normalized_pts[i])\n",
      "D:\\xr\\study\\point cloud\\FinalProject\\mine_clustering\\Kitti_utils.py:163: RuntimeWarning: invalid value encountered in float_scalars\n",
      "  thre = np.abs(np.dot(normalized_pts[i], main_direction)) / np.linalg.norm(normalized_pts[i])\n",
      "D:\\xr\\study\\point cloud\\FinalProject\\mine_clustering\\Kitti_utils.py:176: RuntimeWarning: invalid value encountered in float_scalars\n",
      "  thre = np.abs(np.dot(normalized_pts[i], main_direction)) / np.linalg.norm(normalized_pts[i])\n",
      "D:\\xr\\study\\point cloud\\FinalProject\\mine_clustering\\Kitti_utils.py:163: RuntimeWarning: invalid value encountered in float_scalars\n",
      "  thre = np.abs(np.dot(normalized_pts[i], main_direction)) / np.linalg.norm(normalized_pts[i])\n",
      "D:\\xr\\study\\point cloud\\FinalProject\\mine_clustering\\Kitti_utils.py:176: RuntimeWarning: invalid value encountered in float_scalars\n",
      "  thre = np.abs(np.dot(normalized_pts[i], main_direction)) / np.linalg.norm(normalized_pts[i])\n",
      "D:\\xr\\study\\point cloud\\FinalProject\\mine_clustering\\Kitti_utils.py:163: RuntimeWarning: invalid value encountered in float_scalars\n",
      "  thre = np.abs(np.dot(normalized_pts[i], main_direction)) / np.linalg.norm(normalized_pts[i])\n",
      "D:\\xr\\study\\point cloud\\FinalProject\\mine_clustering\\Kitti_utils.py:176: RuntimeWarning: invalid value encountered in float_scalars\n",
      "  thre = np.abs(np.dot(normalized_pts[i], main_direction)) / np.linalg.norm(normalized_pts[i])\n",
      "D:\\xr\\study\\point cloud\\FinalProject\\mine_clustering\\Kitti_utils.py:163: RuntimeWarning: invalid value encountered in float_scalars\n",
      "  thre = np.abs(np.dot(normalized_pts[i], main_direction)) / np.linalg.norm(normalized_pts[i])\n",
      "D:\\xr\\study\\point cloud\\FinalProject\\mine_clustering\\Kitti_utils.py:176: RuntimeWarning: invalid value encountered in float_scalars\n",
      "  thre = np.abs(np.dot(normalized_pts[i], main_direction)) / np.linalg.norm(normalized_pts[i])\n",
      "D:\\xr\\study\\point cloud\\FinalProject\\mine_clustering\\Kitti_utils.py:163: RuntimeWarning: invalid value encountered in float_scalars\n",
      "  thre = np.abs(np.dot(normalized_pts[i], main_direction)) / np.linalg.norm(normalized_pts[i])\n",
      "D:\\xr\\study\\point cloud\\FinalProject\\mine_clustering\\Kitti_utils.py:176: RuntimeWarning: invalid value encountered in float_scalars\n",
      "  thre = np.abs(np.dot(normalized_pts[i], main_direction)) / np.linalg.norm(normalized_pts[i])\n",
      "D:\\xr\\study\\point cloud\\FinalProject\\mine_clustering\\Kitti_utils.py:163: RuntimeWarning: invalid value encountered in float_scalars\n",
      "  thre = np.abs(np.dot(normalized_pts[i], main_direction)) / np.linalg.norm(normalized_pts[i])\n",
      "D:\\xr\\study\\point cloud\\FinalProject\\mine_clustering\\Kitti_utils.py:176: RuntimeWarning: invalid value encountered in float_scalars\n",
      "  thre = np.abs(np.dot(normalized_pts[i], main_direction)) / np.linalg.norm(normalized_pts[i])\n",
      "D:\\xr\\study\\point cloud\\FinalProject\\mine_clustering\\Kitti_utils.py:163: RuntimeWarning: invalid value encountered in float_scalars\n",
      "  thre = np.abs(np.dot(normalized_pts[i], main_direction)) / np.linalg.norm(normalized_pts[i])\n",
      "D:\\xr\\study\\point cloud\\FinalProject\\mine_clustering\\Kitti_utils.py:176: RuntimeWarning: invalid value encountered in float_scalars\n",
      "  thre = np.abs(np.dot(normalized_pts[i], main_direction)) / np.linalg.norm(normalized_pts[i])\n",
      "D:\\xr\\study\\point cloud\\FinalProject\\mine_clustering\\Kitti_utils.py:163: RuntimeWarning: invalid value encountered in float_scalars\n",
      "  thre = np.abs(np.dot(normalized_pts[i], main_direction)) / np.linalg.norm(normalized_pts[i])\n",
      "D:\\xr\\study\\point cloud\\FinalProject\\mine_clustering\\Kitti_utils.py:176: RuntimeWarning: invalid value encountered in float_scalars\n",
      "  thre = np.abs(np.dot(normalized_pts[i], main_direction)) / np.linalg.norm(normalized_pts[i])\n",
      "D:\\xr\\study\\point cloud\\FinalProject\\mine_clustering\\Kitti_utils.py:163: RuntimeWarning: invalid value encountered in float_scalars\n",
      "  thre = np.abs(np.dot(normalized_pts[i], main_direction)) / np.linalg.norm(normalized_pts[i])\n",
      "D:\\xr\\study\\point cloud\\FinalProject\\mine_clustering\\Kitti_utils.py:176: RuntimeWarning: invalid value encountered in float_scalars\n",
      "  thre = np.abs(np.dot(normalized_pts[i], main_direction)) / np.linalg.norm(normalized_pts[i])\n",
      "D:\\xr\\study\\point cloud\\FinalProject\\mine_clustering\\Kitti_utils.py:163: RuntimeWarning: invalid value encountered in float_scalars\n",
      "  thre = np.abs(np.dot(normalized_pts[i], main_direction)) / np.linalg.norm(normalized_pts[i])\n",
      "D:\\xr\\study\\point cloud\\FinalProject\\mine_clustering\\Kitti_utils.py:176: RuntimeWarning: invalid value encountered in float_scalars\n",
      "  thre = np.abs(np.dot(normalized_pts[i], main_direction)) / np.linalg.norm(normalized_pts[i])\n",
      "100% |########################################################################|\n"
     ]
    }
   ],
   "source": [
    "pbar = ProgressBar()\n",
    "output_path = './mine_result/'\n",
    "for idx in pbar(range(len(files_ground_truth))):\n",
    "    segmentation_classify_and_bounding_box(classifier.eval(), num_class, folder_point_cloud, files_ground_truth[idx], output_path)"
   ]
  },
  {
   "cell_type": "markdown",
   "metadata": {},
   "source": [
    "### Test result"
   ]
  },
  {
   "cell_type": "code",
   "execution_count": 149,
   "metadata": {},
   "outputs": [
    {
     "name": "stdout",
     "output_type": "stream",
     "text": [
      "There are  7481  files\n"
     ]
    }
   ],
   "source": [
    "mine_result_dir = './mine_result'\n",
    "files_mine_results = glob.glob(mine_result_dir + '/*.txt')\n",
    "print(\"There are \", len(files_mine_results), \" files\")"
   ]
  },
  {
   "cell_type": "code",
   "execution_count": 151,
   "metadata": {},
   "outputs": [
    {
     "name": "stdout",
     "output_type": "stream",
     "text": [
      "./mine_result\\000458.txt\n",
      " point cloud shape is :  (124899, 4)\n"
     ]
    }
   ],
   "source": [
    "# test\n",
    "idx = 458\n",
    "print(files_mine_results[idx])\n",
    "show_sets, file_velodyne = Kitti_utils.load_ground_true(folder_point_cloud, files_mine_results[idx])\n",
    "\n",
    "# test show\n",
    "point_cloud_test = Kitti_utils.load_velo_scan(file_velodyne)\n",
    "print(\" point cloud shape is : \", point_cloud_test.shape)\n",
    "point_cloud_o3d = o3d.geometry.PointCloud()\n",
    "point_cloud_o3d.points = o3d.utility.Vector3dVector(point_cloud_test[:,0:3])\n",
    "show_sets.append(point_cloud_o3d)\n",
    "o3d.visualization.draw_geometries(show_sets)"
   ]
  },
  {
   "cell_type": "markdown",
   "metadata": {},
   "source": [
    "![test result](images/test_result.PNG)"
   ]
  }
 ],
 "metadata": {
  "kernelspec": {
   "display_name": "Python 3",
   "language": "python",
   "name": "python3"
  },
  "language_info": {
   "codemirror_mode": {
    "name": "ipython",
    "version": 3
   },
   "file_extension": ".py",
   "mimetype": "text/x-python",
   "name": "python",
   "nbconvert_exporter": "python",
   "pygments_lexer": "ipython3",
   "version": "3.7.1"
  }
 },
 "nbformat": 4,
 "nbformat_minor": 2
}
