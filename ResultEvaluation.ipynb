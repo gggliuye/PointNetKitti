{
 "cells": [
  {
   "cell_type": "code",
   "execution_count": 8,
   "metadata": {},
   "outputs": [],
   "source": [
    "import numpy as np\n",
    "import pandas as pd\n",
    "import glob\n",
    "import random\n",
    "import os\n",
    "\n",
    "import open3d as o3d\n",
    "from pyntcloud import PyntCloud"
   ]
  },
  {
   "cell_type": "code",
   "execution_count": 1,
   "metadata": {},
   "outputs": [
    {
     "data": {
      "text/plain": [
       "<module 'mine_clustering.Kitti_utils' from 'D:\\\\xr\\\\study\\\\point cloud\\\\FinalProject\\\\mine_clustering\\\\Kitti_utils.py'>"
      ]
     },
     "execution_count": 1,
     "metadata": {},
     "output_type": "execute_result"
    }
   ],
   "source": [
    "from mine_clustering import Kitti_utils\n",
    "import imp\n",
    "imp.reload(Kitti_utils)"
   ]
  },
  {
   "cell_type": "markdown",
   "metadata": {},
   "source": [
    "## 1. Prepare\n",
    "\n",
    "* I assign all the threshold(confidence) as 0.8, as I forget to add it in the result file.\n",
    "* as I set:  x1=x2 y1=y2, I need to change line 459 to (otherwise all the result will be filtered by this):\n",
    "\n",
    "    if(false)//height<MIN_HEIGHT[difficulty]\n",
    "   \n",
    "* Run eval result: \n",
    "./evaluate_object_3d_offline /home/viki/Documents/DeepBlue/PointCloud/result_test/label_2 /home/viki/Documents/DeepBlue/PointCloud/result_test/mine_result/\n"
   ]
  },
  {
   "cell_type": "markdown",
   "metadata": {},
   "source": [
    "## 2. The evaluation result\n",
    "\n",
    "### bird view\n",
    "\n",
    "Car  | Cyclist | Pedestrian \n",
    ":-:|:- |-:  \n",
    "![image](mine_result/plot/Car_detection_ground.png)|![image](mine_result/plot/Cyclist_detection_ground.png)|![image](mine_result/plot/Pedestrian_detection_ground.png)\n",
    "\n",
    "### 3d bounding box \n",
    "\n",
    "Car  | Cyclist | Pedestrian \n",
    ":-:|:- |-:  \n",
    "![image](mine_result/plot/Car_detection_3d.png)|![image](mine_result/plot/Cyclist_detection_3d.png)|![image](mine_result/plot/Pedestrian_detection_3d.png)\n",
    "\n",
    "#### The results are far from ideal, (far from our classification test result : with the precision 90%). And the analysis of the results follows."
   ]
  },
  {
   "cell_type": "markdown",
   "metadata": {},
   "source": [
    "## 3. Result analysis\n",
    "\n",
    "To investigate the result, we show some of our detection."
   ]
  },
  {
   "cell_type": "code",
   "execution_count": 6,
   "metadata": {},
   "outputs": [
    {
     "name": "stdout",
     "output_type": "stream",
     "text": [
      "There are  7481  files\n"
     ]
    }
   ],
   "source": [
    "folder_ground_truth = 'D:/xr/study/point cloud/Dataset/training/label_2'\n",
    "folder_point_cloud = 'D:/xr/study/point cloud/Dataset/training/velodyne'\n",
    "mine_result_dir = './mine_result/data'\n",
    "files_mine_results = glob.glob(mine_result_dir + '/*.txt')\n",
    "print(\"There are \", len(files_mine_results), \" files\")"
   ]
  },
  {
   "cell_type": "code",
   "execution_count": 10,
   "metadata": {
    "scrolled": true
   },
   "outputs": [
    {
     "name": "stdout",
     "output_type": "stream",
     "text": [
      "./mine_result/data\\000500.txt\n",
      " point cloud shape is :  (113162, 4)\n"
     ]
    }
   ],
   "source": [
    "# test\n",
    "idx = 500\n",
    "print(files_mine_results[idx])\n",
    "show_sets, file_velodyne = Kitti_utils.load_ground_true(folder_point_cloud, files_mine_results[idx])\n",
    "\n",
    "# test show\n",
    "point_cloud_test = Kitti_utils.load_velo_scan(file_velodyne)\n",
    "print(\" point cloud shape is : \", point_cloud_test.shape)\n",
    "point_cloud_o3d = o3d.geometry.PointCloud()\n",
    "point_cloud_o3d.points = o3d.utility.Vector3dVector(point_cloud_test[:,0:3])\n",
    "show_sets.append(point_cloud_o3d)\n",
    "o3d.visualization.draw_geometries(show_sets)"
   ]
  },
  {
   "cell_type": "markdown",
   "metadata": {},
   "source": [
    "I have checked lots of my result, can I find (with example shown):\n",
    "#### a. Some results are fine, especially the cars, are correctly found. For an example in the following image :\n",
    "\n",
    "![image](images/fine_result.png)\n",
    "\n",
    "#### b. However, there exist a lot of noise detections, for example, in the image below :\n",
    "\n",
    "![image](images/noise_result.png)\n",
    "\n",
    "These noise are most the objects should be classified as \"Others\". And they are the main contribution to the false detections. This is mainly introduced by the data set making process :\n",
    "\n",
    "* We a lot more \"Other\" data than normal data. Should be the result of our definition of problem, and also a result of a not-good-enough Segmentation algorithm.\n",
    "* In the data set making process, I have picked more large clouds than small clouds, which lead to a bad classification of the small clouds. And it is hard, as each seperated cloud has much fewer feature than in the whole map (To be honest, it is hard to classify them even by experts).\n",
    "\n",
    "#### Todo. We should better build a more elaborated data set for training. \n",
    "\n",
    "* Build a better segmentation algorithm.\n",
    "* We could include more classes for better classification. For an example, class \"Other - plants\", \"Other - building\", \"Other - Other\", etc.\n",
    "* We should use a more sophisticated data augmentation, and a better method to equalize the data.\n",
    "* We could introduce a feature engineering process to include more features, for example its height with respect to the ground, its distance to the closest detected road, etc.\n",
    "* Could we find a way to include the infomation of the relationship of the cloud segments ?\n"
   ]
  }
 ],
 "metadata": {
  "kernelspec": {
   "display_name": "Python 3",
   "language": "python",
   "name": "python3"
  },
  "language_info": {
   "codemirror_mode": {
    "name": "ipython",
    "version": 3
   },
   "file_extension": ".py",
   "mimetype": "text/x-python",
   "name": "python",
   "nbconvert_exporter": "python",
   "pygments_lexer": "ipython3",
   "version": "3.7.1"
  }
 },
 "nbformat": 4,
 "nbformat_minor": 2
}
